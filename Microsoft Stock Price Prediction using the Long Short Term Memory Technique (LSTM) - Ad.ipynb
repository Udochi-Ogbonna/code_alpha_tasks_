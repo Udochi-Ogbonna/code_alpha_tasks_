{
 "cells": [
  {
   "cell_type": "markdown",
   "id": "31b24ab3",
   "metadata": {},
   "source": [
    "## Microsoft Stock Price Prediction using the Long Short Term Memory Technique (LSTM)\n"
   ]
  },
  {
   "cell_type": "code",
   "execution_count": null,
   "id": "f02f42a4",
   "metadata": {},
   "outputs": [],
   "source": [
    "#pip install yfinance\n",
    "\n",
    "#!pip install yfinance\n",
    "\n",
    "#import yfinance as yf\n",
    "\n",
    "# Define the ticker symbol\n",
    "#tickerSymbol = 'MSFT'\n",
    "\n",
    "# Get data on this ticker\n",
    "#tickerData = yf.Ticker(tickerSymbol)\n",
    "\n",
    "# Get the historical prices for this ticker\n",
    "#tickerDf = tickerData.history(period='1d', start='2014-01-01', end='2024-10-17')\n",
    "\n",
    "# Display the historical data\n",
    "#tickerDf"
   ]
  },
  {
   "cell_type": "code",
   "execution_count": null,
   "id": "e5da9623",
   "metadata": {},
   "outputs": [],
   "source": []
  },
  {
   "cell_type": "code",
   "execution_count": null,
   "id": "5f0e8c57",
   "metadata": {},
   "outputs": [],
   "source": [
    "#!pip instal Tensorflow 2.12"
   ]
  },
  {
   "cell_type": "code",
   "execution_count": 1,
   "id": "6a3daed2",
   "metadata": {},
   "outputs": [],
   "source": [
    "# For Data Analysis\n",
    "import tensorflow as tf\n",
    "import pandas as pd\n",
    "import numpy as np\n",
    "import matplotlib.pyplot as plt"
   ]
  },
  {
   "cell_type": "code",
   "execution_count": 2,
   "id": "eee04223",
   "metadata": {},
   "outputs": [
    {
     "data": {
      "text/html": [
       "<div>\n",
       "<style scoped>\n",
       "    .dataframe tbody tr th:only-of-type {\n",
       "        vertical-align: middle;\n",
       "    }\n",
       "\n",
       "    .dataframe tbody tr th {\n",
       "        vertical-align: top;\n",
       "    }\n",
       "\n",
       "    .dataframe thead th {\n",
       "        text-align: right;\n",
       "    }\n",
       "</style>\n",
       "<table border=\"1\" class=\"dataframe\">\n",
       "  <thead>\n",
       "    <tr style=\"text-align: right;\">\n",
       "      <th></th>\n",
       "      <th>Date</th>\n",
       "      <th>Open</th>\n",
       "      <th>High</th>\n",
       "      <th>Low</th>\n",
       "      <th>Close</th>\n",
       "      <th>Volume</th>\n",
       "      <th>Dividends</th>\n",
       "      <th>Stock Splits</th>\n",
       "    </tr>\n",
       "  </thead>\n",
       "  <tbody>\n",
       "    <tr>\n",
       "      <th>0</th>\n",
       "      <td>2014-01-02 00:00:00-05:00</td>\n",
       "      <td>31.279857</td>\n",
       "      <td>31.321734</td>\n",
       "      <td>31.070487</td>\n",
       "      <td>31.120737</td>\n",
       "      <td>30632200</td>\n",
       "      <td>0.0</td>\n",
       "      <td>0.0</td>\n",
       "    </tr>\n",
       "    <tr>\n",
       "      <th>1</th>\n",
       "      <td>2014-01-03 00:00:00-05:00</td>\n",
       "      <td>31.154233</td>\n",
       "      <td>31.170983</td>\n",
       "      <td>30.651744</td>\n",
       "      <td>30.911364</td>\n",
       "      <td>31134800</td>\n",
       "      <td>0.0</td>\n",
       "      <td>0.0</td>\n",
       "    </tr>\n",
       "    <tr>\n",
       "      <th>2</th>\n",
       "      <td>2014-01-06 00:00:00-05:00</td>\n",
       "      <td>30.861110</td>\n",
       "      <td>30.894610</td>\n",
       "      <td>30.241377</td>\n",
       "      <td>30.258127</td>\n",
       "      <td>43603700</td>\n",
       "      <td>0.0</td>\n",
       "      <td>0.0</td>\n",
       "    </tr>\n",
       "    <tr>\n",
       "      <th>3</th>\n",
       "      <td>2014-01-07 00:00:00-05:00</td>\n",
       "      <td>30.425629</td>\n",
       "      <td>30.559626</td>\n",
       "      <td>30.325130</td>\n",
       "      <td>30.492626</td>\n",
       "      <td>35802800</td>\n",
       "      <td>0.0</td>\n",
       "      <td>0.0</td>\n",
       "    </tr>\n",
       "    <tr>\n",
       "      <th>4</th>\n",
       "      <td>2014-01-08 00:00:00-05:00</td>\n",
       "      <td>30.149260</td>\n",
       "      <td>30.266506</td>\n",
       "      <td>29.797520</td>\n",
       "      <td>29.948263</td>\n",
       "      <td>59971700</td>\n",
       "      <td>0.0</td>\n",
       "      <td>0.0</td>\n",
       "    </tr>\n",
       "  </tbody>\n",
       "</table>\n",
       "</div>"
      ],
      "text/plain": [
       "                        Date       Open       High        Low      Close  \\\n",
       "0  2014-01-02 00:00:00-05:00  31.279857  31.321734  31.070487  31.120737   \n",
       "1  2014-01-03 00:00:00-05:00  31.154233  31.170983  30.651744  30.911364   \n",
       "2  2014-01-06 00:00:00-05:00  30.861110  30.894610  30.241377  30.258127   \n",
       "3  2014-01-07 00:00:00-05:00  30.425629  30.559626  30.325130  30.492626   \n",
       "4  2014-01-08 00:00:00-05:00  30.149260  30.266506  29.797520  29.948263   \n",
       "\n",
       "     Volume  Dividends  Stock Splits  \n",
       "0  30632200        0.0           0.0  \n",
       "1  31134800        0.0           0.0  \n",
       "2  43603700        0.0           0.0  \n",
       "3  35802800        0.0           0.0  \n",
       "4  59971700        0.0           0.0  "
      ]
     },
     "execution_count": 2,
     "metadata": {},
     "output_type": "execute_result"
    }
   ],
   "source": [
    "# Load the Data set\n",
    "\n",
    "df = pd.read_csv(\"MSFT_2014_2024_data.csv\")\n",
    "\n",
    "df.head()"
   ]
  },
  {
   "cell_type": "code",
   "execution_count": 3,
   "id": "d1b2e105",
   "metadata": {},
   "outputs": [
    {
     "data": {
      "text/html": [
       "<div>\n",
       "<style scoped>\n",
       "    .dataframe tbody tr th:only-of-type {\n",
       "        vertical-align: middle;\n",
       "    }\n",
       "\n",
       "    .dataframe tbody tr th {\n",
       "        vertical-align: top;\n",
       "    }\n",
       "\n",
       "    .dataframe thead th {\n",
       "        text-align: right;\n",
       "    }\n",
       "</style>\n",
       "<table border=\"1\" class=\"dataframe\">\n",
       "  <thead>\n",
       "    <tr style=\"text-align: right;\">\n",
       "      <th></th>\n",
       "      <th>Date</th>\n",
       "      <th>Open</th>\n",
       "      <th>High</th>\n",
       "      <th>Low</th>\n",
       "      <th>Close</th>\n",
       "      <th>Volume</th>\n",
       "      <th>Dividends</th>\n",
       "      <th>Stock Splits</th>\n",
       "    </tr>\n",
       "  </thead>\n",
       "  <tbody>\n",
       "    <tr>\n",
       "      <th>2711</th>\n",
       "      <td>2024-10-10 00:00:00-04:00</td>\n",
       "      <td>415.230011</td>\n",
       "      <td>417.350006</td>\n",
       "      <td>413.149994</td>\n",
       "      <td>415.839996</td>\n",
       "      <td>13848400</td>\n",
       "      <td>0.0</td>\n",
       "      <td>0.0</td>\n",
       "    </tr>\n",
       "    <tr>\n",
       "      <th>2712</th>\n",
       "      <td>2024-10-11 00:00:00-04:00</td>\n",
       "      <td>416.140015</td>\n",
       "      <td>417.130005</td>\n",
       "      <td>413.250000</td>\n",
       "      <td>416.320007</td>\n",
       "      <td>14144900</td>\n",
       "      <td>0.0</td>\n",
       "      <td>0.0</td>\n",
       "    </tr>\n",
       "    <tr>\n",
       "      <th>2713</th>\n",
       "      <td>2024-10-14 00:00:00-04:00</td>\n",
       "      <td>417.769989</td>\n",
       "      <td>424.040009</td>\n",
       "      <td>417.519989</td>\n",
       "      <td>419.140015</td>\n",
       "      <td>16653100</td>\n",
       "      <td>0.0</td>\n",
       "      <td>0.0</td>\n",
       "    </tr>\n",
       "    <tr>\n",
       "      <th>2714</th>\n",
       "      <td>2024-10-15 00:00:00-04:00</td>\n",
       "      <td>422.179993</td>\n",
       "      <td>422.480011</td>\n",
       "      <td>415.260010</td>\n",
       "      <td>418.739990</td>\n",
       "      <td>18900200</td>\n",
       "      <td>0.0</td>\n",
       "      <td>0.0</td>\n",
       "    </tr>\n",
       "    <tr>\n",
       "      <th>2715</th>\n",
       "      <td>2024-10-16 00:00:00-04:00</td>\n",
       "      <td>415.170013</td>\n",
       "      <td>416.359985</td>\n",
       "      <td>410.480011</td>\n",
       "      <td>416.119995</td>\n",
       "      <td>15508900</td>\n",
       "      <td>0.0</td>\n",
       "      <td>0.0</td>\n",
       "    </tr>\n",
       "  </tbody>\n",
       "</table>\n",
       "</div>"
      ],
      "text/plain": [
       "                           Date        Open        High         Low  \\\n",
       "2711  2024-10-10 00:00:00-04:00  415.230011  417.350006  413.149994   \n",
       "2712  2024-10-11 00:00:00-04:00  416.140015  417.130005  413.250000   \n",
       "2713  2024-10-14 00:00:00-04:00  417.769989  424.040009  417.519989   \n",
       "2714  2024-10-15 00:00:00-04:00  422.179993  422.480011  415.260010   \n",
       "2715  2024-10-16 00:00:00-04:00  415.170013  416.359985  410.480011   \n",
       "\n",
       "           Close    Volume  Dividends  Stock Splits  \n",
       "2711  415.839996  13848400        0.0           0.0  \n",
       "2712  416.320007  14144900        0.0           0.0  \n",
       "2713  419.140015  16653100        0.0           0.0  \n",
       "2714  418.739990  18900200        0.0           0.0  \n",
       "2715  416.119995  15508900        0.0           0.0  "
      ]
     },
     "execution_count": 3,
     "metadata": {},
     "output_type": "execute_result"
    }
   ],
   "source": [
    "df.tail()"
   ]
  },
  {
   "cell_type": "markdown",
   "id": "60081d7c",
   "metadata": {},
   "source": [
    "The historical dataset is from January 01, 2014 to October 16, 2024."
   ]
  },
  {
   "cell_type": "code",
   "execution_count": 4,
   "id": "c2bfb450",
   "metadata": {},
   "outputs": [
    {
     "name": "stdout",
     "output_type": "stream",
     "text": [
      "<class 'pandas.core.frame.DataFrame'>\n",
      "RangeIndex: 2716 entries, 0 to 2715\n",
      "Data columns (total 8 columns):\n",
      " #   Column        Non-Null Count  Dtype  \n",
      "---  ------        --------------  -----  \n",
      " 0   Date          2716 non-null   object \n",
      " 1   Open          2716 non-null   float64\n",
      " 2   High          2716 non-null   float64\n",
      " 3   Low           2716 non-null   float64\n",
      " 4   Close         2716 non-null   float64\n",
      " 5   Volume        2716 non-null   int64  \n",
      " 6   Dividends     2716 non-null   float64\n",
      " 7   Stock Splits  2716 non-null   float64\n",
      "dtypes: float64(6), int64(1), object(1)\n",
      "memory usage: 169.9+ KB\n"
     ]
    }
   ],
   "source": [
    "df.info()"
   ]
  },
  {
   "cell_type": "markdown",
   "id": "00dfc0c5",
   "metadata": {},
   "source": [
    "The data shows 2716 entries and 8 columns"
   ]
  },
  {
   "cell_type": "code",
   "execution_count": 5,
   "id": "5ad577b4",
   "metadata": {},
   "outputs": [
    {
     "name": "stdout",
     "output_type": "stream",
     "text": [
      "Date            0\n",
      "Open            0\n",
      "High            0\n",
      "Low             0\n",
      "Close           0\n",
      "Volume          0\n",
      "Dividends       0\n",
      "Stock Splits    0\n",
      "dtype: int64\n"
     ]
    }
   ],
   "source": [
    "# Check for missing values\n",
    "\n",
    "print(df.isnull().sum())"
   ]
  },
  {
   "cell_type": "markdown",
   "id": "f16e74b5",
   "metadata": {},
   "source": [
    "There ara no missing values."
   ]
  },
  {
   "cell_type": "code",
   "execution_count": 6,
   "id": "38254525",
   "metadata": {},
   "outputs": [
    {
     "data": {
      "image/png": "[encoded data removed]",
      "text/plain": [
       "<Figure size 1200x400 with 1 Axes>"
      ]
     },
     "metadata": {},
     "output_type": "display_data"
    }
   ],
   "source": [
    "# Plot the closing prices over time\n",
    "df[\"Close\"].plot(figsize=(12,4));"
   ]
  },
  {
   "cell_type": "markdown",
   "id": "fad6ba0e",
   "metadata": {},
   "source": [
    "It shows an upward trend."
   ]
  },
  {
   "cell_type": "markdown",
   "id": "29b7cf1a",
   "metadata": {},
   "source": [
    "### Feature Selection: Select relevant features ('Close' price)."
   ]
  },
  {
   "cell_type": "code",
   "execution_count": 7,
   "id": "5831546f",
   "metadata": {},
   "outputs": [],
   "source": [
    "# Assign the Close column from stock_MSFT to df1\n",
    "df1 = df.reset_index()['Close']"
   ]
  },
  {
   "cell_type": "code",
   "execution_count": 8,
   "id": "f07ce8a2",
   "metadata": {},
   "outputs": [
    {
     "data": {
      "text/plain": [
       "(2716,)"
      ]
     },
     "execution_count": 8,
     "metadata": {},
     "output_type": "execute_result"
    }
   ],
   "source": [
    "df1.shape"
   ]
  },
  {
   "cell_type": "code",
   "execution_count": 9,
   "id": "e295d979",
   "metadata": {},
   "outputs": [
    {
     "data": {
      "image/png": "[encoded data removed]",
      "text/plain": [
       "<Figure size 640x480 with 1 Axes>"
      ]
     },
     "metadata": {},
     "output_type": "display_data"
    }
   ],
   "source": [
    "\n",
    "plt.plot(df1);"
   ]
  },
  {
   "cell_type": "code",
   "execution_count": null,
   "id": "a75b5ca5",
   "metadata": {},
   "outputs": [],
   "source": []
  },
  {
   "cell_type": "code",
   "execution_count": 10,
   "id": "250b509e",
   "metadata": {},
   "outputs": [
    {
     "data": {
      "text/plain": [
       "0        31.120737\n",
       "1        30.911364\n",
       "2        30.258127\n",
       "3        30.492626\n",
       "4        29.948263\n",
       "           ...    \n",
       "2711    415.839996\n",
       "2712    416.320007\n",
       "2713    419.140015\n",
       "2714    418.739990\n",
       "2715    416.119995\n",
       "Name: Close, Length: 2716, dtype: float64"
      ]
     },
     "execution_count": 10,
     "metadata": {},
     "output_type": "execute_result"
    }
   ],
   "source": [
    "df1"
   ]
  },
  {
   "cell_type": "markdown",
   "id": "853df1ec",
   "metadata": {},
   "source": [
    "Various closed prices at the end of the business day."
   ]
  },
  {
   "cell_type": "code",
   "execution_count": 11,
   "id": "b1b99793",
   "metadata": {},
   "outputs": [
    {
     "data": {
      "text/plain": [
       "(2716,)"
      ]
     },
     "execution_count": 11,
     "metadata": {},
     "output_type": "execute_result"
    }
   ],
   "source": [
    "df1.shape"
   ]
  },
  {
   "cell_type": "markdown",
   "id": "1cf3d9b4",
   "metadata": {},
   "source": [
    "## Normalization: Normalize the data using MinMax scaling."
   ]
  },
  {
   "cell_type": "markdown",
   "id": "79863d46",
   "metadata": {},
   "source": [
    "## LSTM are sensitive to the scale of the data, so we apply MinMax scaler"
   ]
  },
  {
   "cell_type": "code",
   "execution_count": 12,
   "id": "ddd4e8a7",
   "metadata": {},
   "outputs": [],
   "source": [
    "from sklearn.preprocessing import MinMaxScaler\n",
    "scaler=MinMaxScaler(feature_range=(0,1))\n",
    "df1=scaler.fit_transform(np.array(df1).reshape(-1,1))"
   ]
  },
  {
   "cell_type": "code",
   "execution_count": 13,
   "id": "24e04270",
   "metadata": {},
   "outputs": [
    {
     "data": {
      "text/plain": [
       "array([[0.00417378],\n",
       "       [0.00369512],\n",
       "       [0.00220175],\n",
       "       ...,\n",
       "       [0.89122958],\n",
       "       [0.89031508],\n",
       "       [0.88432547]])"
      ]
     },
     "execution_count": 13,
     "metadata": {},
     "output_type": "execute_result"
    }
   ],
   "source": [
    "#Scaled datast\n",
    "df1"
   ]
  },
  {
   "cell_type": "code",
   "execution_count": 14,
   "id": "f7e36684",
   "metadata": {},
   "outputs": [
    {
     "data": {
      "text/plain": [
       "(2716, 1)"
      ]
     },
     "execution_count": 14,
     "metadata": {},
     "output_type": "execute_result"
    }
   ],
   "source": [
    "df1.shape"
   ]
  },
  {
   "cell_type": "markdown",
   "id": "8d9c7889",
   "metadata": {},
   "source": [
    "## Train-Test Split"
   ]
  },
  {
   "cell_type": "markdown",
   "id": "ebea0ce3",
   "metadata": {},
   "source": [
    "### In splitting the dataset for training, the next data is always dependent on the previous data in time seris analysis.The splitting is in accordance with date unlike the normal regression analysis. We will be taking the first 65% of the data for training and the rest 35% for testing not in a random selection."
   ]
  },
  {
   "cell_type": "code",
   "execution_count": 15,
   "id": "fcf80394",
   "metadata": {},
   "outputs": [],
   "source": [
    "##splitting dataset into train and test split\n",
    "\n",
    "training_size=int(len(df1)*0.70)\n",
    "train_size=len(df1)-training_size\n",
    "train_data,test_data=df1[0:training_size,:],df1[training_size:len(df1),:1]"
   ]
  },
  {
   "cell_type": "code",
   "execution_count": 16,
   "id": "b8f16846",
   "metadata": {},
   "outputs": [
    {
     "data": {
      "text/plain": [
       "(1901, 815)"
      ]
     },
     "execution_count": 16,
     "metadata": {},
     "output_type": "execute_result"
    }
   ],
   "source": [
    "training_size,train_size"
   ]
  },
  {
   "cell_type": "code",
   "execution_count": 17,
   "id": "37b5078e",
   "metadata": {},
   "outputs": [
    {
     "data": {
      "text/plain": [
       "(1901, 815)"
      ]
     },
     "execution_count": 17,
     "metadata": {},
     "output_type": "execute_result"
    }
   ],
   "source": [
    "len(train_data),len(test_data)"
   ]
  },
  {
   "cell_type": "code",
   "execution_count": 18,
   "id": "54379910",
   "metadata": {},
   "outputs": [],
   "source": [
    "import numpy\n",
    "# Convert an array of values into a dataset matrix\n",
    "def create_dataset(dataset, time_step=1):\n",
    "    dataX, dataY = [], []\n",
    "    for i in range(len(dataset)-time_step-1):\n",
    "        a = dataset[i:(i+time_step), 0]    ###i=0, 0,1,2,3------99  100\n",
    "        dataX.append(a)\n",
    "        dataY.append(dataset[i + time_step, 0])\n",
    "    return numpy.array(dataX), numpy.array(dataY)"
   ]
  },
  {
   "cell_type": "markdown",
   "id": "17b4742e",
   "metadata": {},
   "source": [
    "The function transforms a sequence of data into a supervised learning dataset where each input consists of a sequence of time_step values, and the corresponding output is the next value in the sequence. This is useful for models like RNNs, LSTMs, or any other sequence prediction algorithms."
   ]
  },
  {
   "cell_type": "code",
   "execution_count": 19,
   "id": "9838a2eb",
   "metadata": {},
   "outputs": [],
   "source": [
    "#reshape into X=t, t+1,t+2,t+3 and Y=t+4\n",
    "time_step = 100\n",
    "X_train, y_train = create_dataset(train_data, time_step)\n",
    "X_test, y_test = create_dataset(test_data, time_step)"
   ]
  },
  {
   "cell_type": "code",
   "execution_count": 20,
   "id": "9b2c89fd",
   "metadata": {},
   "outputs": [
    {
     "name": "stdout",
     "output_type": "stream",
     "text": [
      "(1800, 100)\n",
      "(1800,)\n"
     ]
    },
    {
     "data": {
      "text/plain": [
       "(None, None)"
      ]
     },
     "execution_count": 20,
     "metadata": {},
     "output_type": "execute_result"
    }
   ],
   "source": [
    "print(X_train.shape), print(y_train.shape)"
   ]
  },
  {
   "cell_type": "code",
   "execution_count": 21,
   "id": "9621f1b6",
   "metadata": {},
   "outputs": [
    {
     "name": "stdout",
     "output_type": "stream",
     "text": [
      "(714, 100)\n",
      "(714,)\n"
     ]
    },
    {
     "data": {
      "text/plain": [
       "(None, None)"
      ]
     },
     "execution_count": 21,
     "metadata": {},
     "output_type": "execute_result"
    }
   ],
   "source": [
    "print(X_test.shape), print(y_test.shape)"
   ]
  },
  {
   "cell_type": "code",
   "execution_count": null,
   "id": "75f18b91",
   "metadata": {},
   "outputs": [],
   "source": []
  },
  {
   "cell_type": "code",
   "execution_count": 22,
   "id": "0b76cbce",
   "metadata": {},
   "outputs": [],
   "source": [
    "# Reshape input to be [samples, time steps, features] which is required for LSTM.\n",
    "X_train = X_train.reshape(X_train.shape[0],X_train.shape[1] , 1)\n",
    "X_test = X_test.reshape(X_test.shape[0],X_test.shape[1] , 1)"
   ]
  },
  {
   "cell_type": "markdown",
   "id": "2121f826",
   "metadata": {},
   "source": [
    "# Model Architecture"
   ]
  },
  {
   "cell_type": "markdown",
   "id": "44645cb8",
   "metadata": {},
   "source": [
    "## Create the Stacked LSTM model"
   ]
  },
  {
   "cell_type": "code",
   "execution_count": 23,
   "id": "b699d778",
   "metadata": {},
   "outputs": [],
   "source": [
    "from tensorflow.keras.models import Sequential\n",
    "from tensorflow.keras.layers import Dense\n",
    "from tensorflow.keras.layers import LSTM"
   ]
  },
  {
   "cell_type": "code",
   "execution_count": 24,
   "id": "05773781",
   "metadata": {},
   "outputs": [],
   "source": [
    "from tensorflow.keras.layers import Dropout\n",
    "\n",
    "# Initialize the Sequential model\n",
    "model = Sequential()\n",
    "\n",
    "# First LSTM layer with 50 units, returning sequences\n",
    "model.add(LSTM(units = 50, activation = 'relu', return_sequences=True, input_shape=(100, 1)))\n",
    "model.add(Dropout(0.2))  # Dropout layer with 20% drop rate\n",
    "\n",
    "# Second LSTM layer with 60 units, returning sequences\n",
    "model.add(LSTM(units = 60, activation = 'relu', return_sequences=True))\n",
    "model.add(Dropout(0.3))\n",
    "\n",
    "# Third LSTM layer with 80 units, does not return sequences\n",
    "model.add(LSTM(units = 80, activation = 'relu', return_sequences=True))\n",
    "model.add(Dropout(0.4))\n",
    "\n",
    "# Fourth LSTM layer with 120 units, does not return sequences\n",
    "model.add(LSTM(units = 120, activation = 'relu'))\n",
    "model.add(Dropout(0.5))\n",
    "\n",
    "# Output layer with 1 unit for regression output\n",
    "model.add(Dense(1))\n",
    "\n",
    "# Compile the model with mean squared error loss and Adam optimizer\n",
    "model.compile(loss='mean_squared_error', optimizer='adam')"
   ]
  },
  {
   "cell_type": "markdown",
   "id": "9f9e0cb5",
   "metadata": {},
   "source": [
    "## Model Architecture\n",
    "The model is built using a stacked LSTM architecture as follows:\n",
    "\n",
    "- **Layer 1**: LSTM layer with 50 units, returning sequences.\n",
    "- **Layer 2**: LSTM layer with 50 units, returning sequences.\n",
    "- **Layer 3**: LSTM layer with 50 units, not returning sequences.\n",
    "- **Output Layer**: Dense layer with 1 unit for the predicted stock price.\n",
    "\n",
    "### Model Summary\n",
    "The following is the summary of the model architecture:"
   ]
  },
  {
   "cell_type": "code",
   "execution_count": 25,
   "id": "fcad3aa3",
   "metadata": {},
   "outputs": [
    {
     "name": "stdout",
     "output_type": "stream",
     "text": [
      "Model: \"sequential\"\n",
      "_________________________________________________________________\n",
      " Layer (type)                Output Shape              Param #   \n",
      "=================================================================\n",
      " lstm (LSTM)                 (None, 100, 50)           10400     \n",
      "                                                                 \n",
      " dropout (Dropout)           (None, 100, 50)           0         \n",
      "                                                                 \n",
      " lstm_1 (LSTM)               (None, 100, 60)           26640     \n",
      "                                                                 \n",
      " dropout_1 (Dropout)         (None, 100, 60)           0         \n",
      "                                                                 \n",
      " lstm_2 (LSTM)               (None, 100, 80)           45120     \n",
      "                                                                 \n",
      " dropout_2 (Dropout)         (None, 100, 80)           0         \n",
      "                                                                 \n",
      " lstm_3 (LSTM)               (None, 120)               96480     \n",
      "                                                                 \n",
      " dropout_3 (Dropout)         (None, 120)               0         \n",
      "                                                                 \n",
      " dense (Dense)               (None, 1)                 121       \n",
      "                                                                 \n",
      "=================================================================\n",
      "Total params: 178,761\n",
      "Trainable params: 178,761\n",
      "Non-trainable params: 0\n",
      "_________________________________________________________________\n"
     ]
    }
   ],
   "source": [
    "# Display the model summary\n",
    "model.summary()"
   ]
  },
  {
   "cell_type": "code",
   "execution_count": 26,
   "id": "83d77a79",
   "metadata": {},
   "outputs": [
    {
     "name": "stdout",
     "output_type": "stream",
     "text": [
      "Epoch 1/50\n",
      "29/29 [==============================] - 23s 543ms/step - loss: 0.0164 - val_loss: 1.1596 - lr: 0.0010\n",
      "Epoch 2/50\n",
      "29/29 [==============================] - 13s 456ms/step - loss: 0.0021 - val_loss: 0.0217 - lr: 0.0010\n",
      "Epoch 3/50\n",
      "29/29 [==============================] - 13s 447ms/step - loss: 0.0014 - val_loss: 0.0071 - lr: 0.0010\n",
      "Epoch 4/50\n",
      "29/29 [==============================] - 14s 464ms/step - loss: 0.0016 - val_loss: 0.0020 - lr: 0.0010\n",
      "Epoch 5/50\n",
      "29/29 [==============================] - 13s 447ms/step - loss: 0.0015 - val_loss: 0.0020 - lr: 0.0010\n",
      "Epoch 6/50\n",
      "29/29 [==============================] - 13s 450ms/step - loss: 0.0016 - val_loss: 0.0024 - lr: 0.0010\n",
      "Epoch 7/50\n",
      "29/29 [==============================] - 13s 444ms/step - loss: 0.0014 - val_loss: 0.0061 - lr: 0.0010\n",
      "Epoch 8/50\n",
      "29/29 [==============================] - 14s 479ms/step - loss: 0.0012 - val_loss: 0.0023 - lr: 0.0010\n",
      "Epoch 9/50\n",
      "29/29 [==============================] - 13s 432ms/step - loss: 0.0012 - val_loss: 0.0018 - lr: 0.0010\n",
      "Epoch 10/50\n",
      "29/29 [==============================] - 13s 452ms/step - loss: 0.0013 - val_loss: 0.0021 - lr: 0.0010\n",
      "Epoch 11/50\n",
      "29/29 [==============================] - 13s 434ms/step - loss: 0.0011 - val_loss: 0.0031 - lr: 0.0010\n",
      "Epoch 12/50\n",
      "29/29 [==============================] - 13s 439ms/step - loss: 0.0011 - val_loss: 0.0016 - lr: 0.0010\n",
      "Epoch 13/50\n",
      "29/29 [==============================] - 13s 462ms/step - loss: 0.0011 - val_loss: 0.0016 - lr: 0.0010\n",
      "Epoch 14/50\n",
      "29/29 [==============================] - 12s 427ms/step - loss: 0.0010 - val_loss: 0.0039 - lr: 0.0010\n",
      "Epoch 15/50\n",
      "29/29 [==============================] - 13s 438ms/step - loss: 0.0011 - val_loss: 0.0121 - lr: 0.0010\n",
      "Epoch 16/50\n",
      "29/29 [==============================] - 14s 469ms/step - loss: 0.0012 - val_loss: 0.0019 - lr: 0.0010\n",
      "Epoch 17/50\n",
      "29/29 [==============================] - 13s 451ms/step - loss: 0.0011 - val_loss: 0.0094 - lr: 0.0010\n",
      "Epoch 18/50\n",
      "29/29 [==============================] - 13s 445ms/step - loss: 0.0014 - val_loss: 0.0137 - lr: 5.0000e-04\n",
      "Epoch 19/50\n",
      "29/29 [==============================] - 13s 438ms/step - loss: 0.0011 - val_loss: 0.0036 - lr: 5.0000e-04\n",
      "Epoch 20/50\n",
      "29/29 [==============================] - 13s 435ms/step - loss: 8.5089e-04 - val_loss: 0.0067 - lr: 5.0000e-04\n",
      "Epoch 21/50\n",
      "29/29 [==============================] - 13s 464ms/step - loss: 0.0010 - val_loss: 0.0034 - lr: 5.0000e-04\n",
      "Epoch 22/50\n",
      "29/29 [==============================] - 14s 474ms/step - loss: 9.3784e-04 - val_loss: 0.0039 - lr: 5.0000e-04\n",
      "Epoch 23/50\n",
      "29/29 [==============================] - 13s 437ms/step - loss: 8.8693e-04 - val_loss: 0.0024 - lr: 2.5000e-04\n",
      "Epoch 24/50\n",
      "29/29 [==============================] - 13s 446ms/step - loss: 0.0010 - val_loss: 0.0041 - lr: 2.5000e-04\n",
      "Epoch 25/50\n",
      "29/29 [==============================] - 12s 428ms/step - loss: 0.0010 - val_loss: 0.0052 - lr: 2.5000e-04\n",
      "Epoch 26/50\n",
      "29/29 [==============================] - 12s 432ms/step - loss: 9.4222e-04 - val_loss: 0.0042 - lr: 2.5000e-04\n",
      "Epoch 27/50\n",
      "29/29 [==============================] - 14s 491ms/step - loss: 8.8719e-04 - val_loss: 0.0047 - lr: 2.5000e-04\n",
      "Epoch 28/50\n",
      "29/29 [==============================] - 13s 445ms/step - loss: 8.1823e-04 - val_loss: 0.0037 - lr: 1.2500e-04\n",
      "Epoch 29/50\n",
      "29/29 [==============================] - 13s 466ms/step - loss: 9.4009e-04 - val_loss: 0.0062 - lr: 1.2500e-04\n",
      "Epoch 30/50\n",
      "29/29 [==============================] - 13s 441ms/step - loss: 8.8097e-04 - val_loss: 0.0052 - lr: 1.2500e-04\n",
      "Epoch 31/50\n",
      "29/29 [==============================] - 14s 470ms/step - loss: 0.0010 - val_loss: 0.0045 - lr: 1.2500e-04\n",
      "Epoch 32/50\n",
      "29/29 [==============================] - 13s 441ms/step - loss: 8.5000e-04 - val_loss: 0.0037 - lr: 1.2500e-04\n",
      "Epoch 33/50\n",
      "29/29 [==============================] - 13s 446ms/step - loss: 8.2895e-04 - val_loss: 0.0046 - lr: 6.2500e-05\n",
      "Epoch 34/50\n",
      "29/29 [==============================] - 13s 435ms/step - loss: 8.8416e-04 - val_loss: 0.0049 - lr: 6.2500e-05\n",
      "Epoch 35/50\n",
      "29/29 [==============================] - 13s 453ms/step - loss: 9.6088e-04 - val_loss: 0.0049 - lr: 6.2500e-05\n",
      "Epoch 36/50\n",
      "29/29 [==============================] - 13s 464ms/step - loss: 8.4234e-04 - val_loss: 0.0045 - lr: 6.2500e-05\n",
      "Epoch 37/50\n",
      "29/29 [==============================] - 13s 435ms/step - loss: 8.8132e-04 - val_loss: 0.0041 - lr: 6.2500e-05\n",
      "Epoch 38/50\n",
      "29/29 [==============================] - 13s 463ms/step - loss: 8.9458e-04 - val_loss: 0.0052 - lr: 3.1250e-05\n",
      "Epoch 39/50\n",
      "29/29 [==============================] - 13s 437ms/step - loss: 9.5858e-04 - val_loss: 0.0047 - lr: 3.1250e-05\n",
      "Epoch 40/50\n",
      "29/29 [==============================] - 13s 450ms/step - loss: 9.1625e-04 - val_loss: 0.0043 - lr: 3.1250e-05\n",
      "Epoch 41/50\n",
      "29/29 [==============================] - 13s 448ms/step - loss: 9.2132e-04 - val_loss: 0.0057 - lr: 3.1250e-05\n",
      "Epoch 42/50\n",
      "29/29 [==============================] - 13s 447ms/step - loss: 0.0010 - val_loss: 0.0048 - lr: 3.1250e-05\n",
      "Epoch 43/50\n",
      "29/29 [==============================] - 13s 436ms/step - loss: 8.4086e-04 - val_loss: 0.0047 - lr: 1.5625e-05\n",
      "Epoch 44/50\n",
      "29/29 [==============================] - 13s 439ms/step - loss: 8.6955e-04 - val_loss: 0.0051 - lr: 1.5625e-05\n",
      "Epoch 45/50\n",
      "29/29 [==============================] - 14s 476ms/step - loss: 8.8953e-04 - val_loss: 0.0051 - lr: 1.5625e-05\n",
      "Epoch 46/50\n",
      "29/29 [==============================] - 13s 439ms/step - loss: 8.5229e-04 - val_loss: 0.0052 - lr: 1.5625e-05\n",
      "Epoch 47/50\n",
      "29/29 [==============================] - 13s 441ms/step - loss: 8.6207e-04 - val_loss: 0.0050 - lr: 1.5625e-05\n",
      "Epoch 48/50\n",
      "29/29 [==============================] - 12s 431ms/step - loss: 8.2945e-04 - val_loss: 0.0056 - lr: 7.8125e-06\n",
      "Epoch 49/50\n",
      "29/29 [==============================] - 13s 448ms/step - loss: 8.3965e-04 - val_loss: 0.0045 - lr: 7.8125e-06\n",
      "Epoch 50/50\n",
      "29/29 [==============================] - 14s 477ms/step - loss: 9.1168e-04 - val_loss: 0.0047 - lr: 7.8125e-06\n"
     ]
    },
    {
     "data": {
      "text/plain": [
       "<keras.callbacks.History at 0x2889cee9050>"
      ]
     },
     "execution_count": 26,
     "metadata": {},
     "output_type": "execute_result"
    }
   ],
   "source": [
    "from keras.callbacks import ReduceLROnPlateau\n",
    "\n",
    "reduce_lr = ReduceLROnPlateau(monitor='val_loss', factor=0.5, patience=5, min_lr=1e-6)\n",
    "model.fit(X_train, y_train, validation_data=(X_test, y_test), epochs=50, batch_size=64, callbacks=[reduce_lr], verbose=1)"
   ]
  },
  {
   "cell_type": "markdown",
   "id": "a5907a0d",
   "metadata": {},
   "source": [
    "The result shows the training and validation loss at each epoch for your model over 50 epochs, with a decreasing learning rate throughout the training process.\n",
    "\n",
    "1. Loss Values:\n",
    "\n",
    "    Training Loss: This measures the model's error on the training dataset. Lower values are better, indicating that the model's predictions are getting closer to the true values over time.\n",
    "    Validation Loss: This measures the model's error on a separate validation dataset, which is not used for training. It's an indicator of how well the model generalizes to unseen data.\n",
    "\n",
    "In this case:\n",
    "\n",
    "    The initial training loss was 0.0164, which decreased over the epochs, ending around 0.0009.\n",
    "    The validation loss started high (1.1596) but quickly dropped to much lower values, fluctuating around 0.004-0.006 by the end of the training.\n",
    "\n",
    "2. Learning Rate (lr):\n",
    "\n",
    "    The learning rate started at 0.001 and was reduced gradually over the epochs using a learning rate scheduler.\n",
    "    Reducing the learning rate can help the model make smaller updates as it gets closer to the optimal solution, preventing it from overshooting the minimum of the loss function.\n",
    "\n",
    "3. Performance Over Epochs:\n",
    "\n",
    "    Early Epochs: The model initially saw significant improvement (from a validation loss of 1.1596 in Epoch 1 to around 0.0016 by Epoch 9). This shows that the model was learning the relationship in the data quite well at the start.\n",
    "    Later Epochs: The validation loss stabilized with some fluctuations between 0.0016 and 0.006 by Epoch 50. However, there's no significant overfitting as the validation loss doesn’t diverge dramatically from the training loss.\n",
    "\n",
    "4. Interpretation of Results:\n",
    "\n",
    "    Decreasing Validation Loss: This is a good sign that your model is learning from the data effectively. The sharp decrease in validation loss shows that the model improved quickly early on.\n",
    "    Learning Rate Tuning: By reducing the learning rate at regular intervals, you've allowed the model to fine-tune its weights more carefully, which can explain why the validation loss didn’t increase significantly after the early epochs.\n",
    "    Validation Fluctuations: The small fluctuations in validation loss near the end (between 0.004 and 0.006) are normal and indicate that the model’s generalization is stabilizing, though slight improvements may still be possible with further tuning.\n",
    "\n",
    "5. Generalization:\n",
    "\n",
    "    Since the validation loss is close to the training loss and doesn’t increase significantly, it indicates that the model is generalizing well and isn't overfitting to the training data."
   ]
  },
  {
   "cell_type": "code",
   "execution_count": 27,
   "id": "4970dc46",
   "metadata": {},
   "outputs": [
    {
     "name": "stdout",
     "output_type": "stream",
     "text": [
      "57/57 [==============================] - 6s 87ms/step\n",
      "23/23 [==============================] - 2s 86ms/step\n"
     ]
    }
   ],
   "source": [
    "#Predict and check performance metrics\n",
    "train_predict=model.predict(X_train)\n",
    "test_predict=model.predict(X_test)"
   ]
  },
  {
   "cell_type": "code",
   "execution_count": 28,
   "id": "79865ce1",
   "metadata": {},
   "outputs": [],
   "source": [
    "# Inverse transform the predicted values\n",
    "train_predict = scaler.inverse_transform(train_predict)\n",
    "test_predict = scaler.inverse_transform(test_predict)\n",
    "\n",
    "# Inverse transform the actual values for y_train and y_test\n",
    "y_train = scaler.inverse_transform(y_train.reshape(-1, 1))\n",
    "y_test = scaler.inverse_transform(y_test.reshape(-1, 1))"
   ]
  },
  {
   "cell_type": "code",
   "execution_count": 29,
   "id": "d1edb178",
   "metadata": {},
   "outputs": [
    {
     "name": "stdout",
     "output_type": "stream",
     "text": [
      "Training Data RMSE: 7.228900748390265\n",
      "Test Data RMSE: 30.03906763917052\n"
     ]
    }
   ],
   "source": [
    "import math\n",
    "from sklearn.metrics import mean_squared_error\n",
    "\n",
    "# Calculate RMSE for training data\n",
    "train_rmse = math.sqrt(mean_squared_error(y_train, train_predict))\n",
    "print(f'Training Data RMSE: {train_rmse}')\n",
    "\n",
    "# Calculate RMSE for test data\n",
    "test_rmse = math.sqrt(mean_squared_error(y_test, test_predict))\n",
    "print(f'Test Data RMSE: {test_rmse}')"
   ]
  },
  {
   "cell_type": "markdown",
   "id": "a30aa9f6",
   "metadata": {},
   "source": [
    "Interpretation:\n",
    "\n",
    "    Training RMSE (7.22) is quite low, suggesting that the model performs well on the training data.\n",
    "    Test RMSE (30.03) is higher than the training RMSE, which indicates that the model has a higher error rate when making predictions on unseen data. While the gap between the two RMSE values isn't extremely large, this difference suggests the model might be slightly overfitting the training data, as it generalizes less effectively to the test data."
   ]
  },
  {
   "cell_type": "code",
   "execution_count": 30,
   "id": "5deb5d5f",
   "metadata": {},
   "outputs": [
    {
     "data": {
      "image/png": "[encoded data removed]",
      "text/plain": [
       "<Figure size 640x480 with 1 Axes>"
      ]
     },
     "metadata": {},
     "output_type": "display_data"
    }
   ],
   "source": [
    "# Plotting\n",
    "# Shift train predictions for plotting\n",
    "look_back=100\n",
    "trainPredictPlot=numpy.empty_like(df1)\n",
    "trainPredictPlot[:, :] = np.nan\n",
    "trainPredictPlot[look_back:len(train_predict)+look_back, :] = train_predict\n",
    "\n",
    "# Shift test predictions  for plotting\n",
    "testPredictPlot=numpy.empty_like(df1)\n",
    "testPredictPlot[:, :] = np.nan\n",
    "testPredictPlot[len(train_predict)+(look_back*2)+1:len(df1)-1, :] = test_predict\n",
    "\n",
    "# Plot baseline and predictions\n",
    "plt.plot(scaler.inverse_transform(df1))\n",
    "plt.plot(trainPredictPlot)\n",
    "plt.plot(testPredictPlot)\n",
    "plt.show()"
   ]
  },
  {
   "cell_type": "code",
   "execution_count": null,
   "id": "1c3da100",
   "metadata": {},
   "outputs": [],
   "source": []
  },
  {
   "cell_type": "code",
   "execution_count": 31,
   "id": "e9421000",
   "metadata": {},
   "outputs": [
    {
     "data": {
      "text/plain": [
       "815"
      ]
     },
     "execution_count": 31,
     "metadata": {},
     "output_type": "execute_result"
    }
   ],
   "source": [
    "len(test_data)"
   ]
  },
  {
   "cell_type": "code",
   "execution_count": 32,
   "id": "b6fb7f54",
   "metadata": {},
   "outputs": [
    {
     "data": {
      "text/plain": [
       "(1, 100)"
      ]
     },
     "execution_count": 32,
     "metadata": {},
     "output_type": "execute_result"
    }
   ],
   "source": [
    "X_input=test_data[715:].reshape(1,-1)\n",
    "X_input.shape"
   ]
  },
  {
   "cell_type": "code",
   "execution_count": 33,
   "id": "204c1e7e",
   "metadata": {},
   "outputs": [],
   "source": [
    "temp_input=list(X_input)\n",
    "temp_input=temp_input[0].tolist()"
   ]
  },
  {
   "cell_type": "code",
   "execution_count": null,
   "id": "7d9cd5c4",
   "metadata": {},
   "outputs": [],
   "source": []
  },
  {
   "cell_type": "code",
   "execution_count": 34,
   "id": "df74ae64",
   "metadata": {},
   "outputs": [
    {
     "name": "stdout",
     "output_type": "stream",
     "text": [
      "[0.808445]\n",
      "101\n",
      "1 day input [0.91501832 0.91239405 0.87930507 0.88035478 0.87668073 0.88249989\n",
      " 0.90061891 0.90178269 0.90025382 0.90942743 0.92040382 0.93952699\n",
      " 0.94071365 0.94297283 0.9562084  0.95157596 0.95011554 0.95942603\n",
      " 0.95461109 0.962096   0.96485723 0.96643179 0.95296802 0.97528594\n",
      " 0.98110504 0.98450518 1.         0.99698776 0.9816984  0.99701057\n",
      " 0.97065351 0.96802917 0.96896481 0.95883274 0.94514069 0.93795243\n",
      " 0.93051307 0.94381715 0.94817582 0.91177787 0.88781687 0.9034942\n",
      " 0.90682598 0.89813159 0.88770281 0.88487307 0.86520223 0.8347604\n",
      " 0.8449381  0.84224539 0.85196667 0.85956572 0.86136849 0.87779895\n",
      " 0.88430259 0.8955503  0.88969785 0.89669335 0.90416892 0.90266014\n",
      " 0.88302237 0.8858572  0.87831299 0.87911314 0.87170616 0.87746714\n",
      " 0.88665735 0.86905426 0.86781974 0.86665387 0.85135977 0.86054992\n",
      " 0.87993618 0.9001454  0.90919839 0.91740553 0.91912011 0.9278302\n",
      " 0.91790847 0.93592305 0.92810452 0.92408101 0.91415929 0.92088039\n",
      " 0.91905153 0.9115302  0.91674253 0.89477303 0.88663447 0.88528567\n",
      " 0.88418831 0.86928288 0.88110205 0.88738886 0.88368536 0.88478272\n",
      " 0.89122958 0.89031508 0.88432547 0.80844498]\n",
      "1 day output [[0.8076688]]\n",
      "2 day input [0.91239405 0.87930507 0.88035478 0.87668073 0.88249989 0.90061891\n",
      " 0.90178269 0.90025382 0.90942743 0.92040382 0.93952699 0.94071365\n",
      " 0.94297283 0.9562084  0.95157596 0.95011554 0.95942603 0.95461109\n",
      " 0.962096   0.96485723 0.96643179 0.95296802 0.97528594 0.98110504\n",
      " 0.98450518 1.         0.99698776 0.9816984  0.99701057 0.97065351\n",
      " 0.96802917 0.96896481 0.95883274 0.94514069 0.93795243 0.93051307\n",
      " 0.94381715 0.94817582 0.91177787 0.88781687 0.9034942  0.90682598\n",
      " 0.89813159 0.88770281 0.88487307 0.86520223 0.8347604  0.8449381\n",
      " 0.84224539 0.85196667 0.85956572 0.86136849 0.87779895 0.88430259\n",
      " 0.8955503  0.88969785 0.89669335 0.90416892 0.90266014 0.88302237\n",
      " 0.8858572  0.87831299 0.87911314 0.87170616 0.87746714 0.88665735\n",
      " 0.86905426 0.86781974 0.86665387 0.85135977 0.86054992 0.87993618\n",
      " 0.9001454  0.90919839 0.91740553 0.91912011 0.9278302  0.91790847\n",
      " 0.93592305 0.92810452 0.92408101 0.91415929 0.92088039 0.91905153\n",
      " 0.9115302  0.91674253 0.89477303 0.88663447 0.88528567 0.88418831\n",
      " 0.86928288 0.88110205 0.88738886 0.88368536 0.88478272 0.89122958\n",
      " 0.89031508 0.88432547 0.80844498 0.80766881]\n",
      "2 day output [[0.80665445]]\n",
      "3 day input [0.87930507 0.88035478 0.87668073 0.88249989 0.90061891 0.90178269\n",
      " 0.90025382 0.90942743 0.92040382 0.93952699 0.94071365 0.94297283\n",
      " 0.9562084  0.95157596 0.95011554 0.95942603 0.95461109 0.962096\n",
      " 0.96485723 0.96643179 0.95296802 0.97528594 0.98110504 0.98450518\n",
      " 1.         0.99698776 0.9816984  0.99701057 0.97065351 0.96802917\n",
      " 0.96896481 0.95883274 0.94514069 0.93795243 0.93051307 0.94381715\n",
      " 0.94817582 0.91177787 0.88781687 0.9034942  0.90682598 0.89813159\n",
      " 0.88770281 0.88487307 0.86520223 0.8347604  0.8449381  0.84224539\n",
      " 0.85196667 0.85956572 0.86136849 0.87779895 0.88430259 0.8955503\n",
      " 0.88969785 0.89669335 0.90416892 0.90266014 0.88302237 0.8858572\n",
      " 0.87831299 0.87911314 0.87170616 0.87746714 0.88665735 0.86905426\n",
      " 0.86781974 0.86665387 0.85135977 0.86054992 0.87993618 0.9001454\n",
      " 0.90919839 0.91740553 0.91912011 0.9278302  0.91790847 0.93592305\n",
      " 0.92810452 0.92408101 0.91415929 0.92088039 0.91905153 0.9115302\n",
      " 0.91674253 0.89477303 0.88663447 0.88528567 0.88418831 0.86928288\n",
      " 0.88110205 0.88738886 0.88368536 0.88478272 0.89122958 0.89031508\n",
      " 0.88432547 0.80844498 0.80766881 0.80665445]\n",
      "3 day output [[0.8053245]]\n",
      "4 day input [0.88035478 0.87668073 0.88249989 0.90061891 0.90178269 0.90025382\n",
      " 0.90942743 0.92040382 0.93952699 0.94071365 0.94297283 0.9562084\n",
      " 0.95157596 0.95011554 0.95942603 0.95461109 0.962096   0.96485723\n",
      " 0.96643179 0.95296802 0.97528594 0.98110504 0.98450518 1.\n",
      " 0.99698776 0.9816984  0.99701057 0.97065351 0.96802917 0.96896481\n",
      " 0.95883274 0.94514069 0.93795243 0.93051307 0.94381715 0.94817582\n",
      " 0.91177787 0.88781687 0.9034942  0.90682598 0.89813159 0.88770281\n",
      " 0.88487307 0.86520223 0.8347604  0.8449381  0.84224539 0.85196667\n",
      " 0.85956572 0.86136849 0.87779895 0.88430259 0.8955503  0.88969785\n",
      " 0.89669335 0.90416892 0.90266014 0.88302237 0.8858572  0.87831299\n",
      " 0.87911314 0.87170616 0.87746714 0.88665735 0.86905426 0.86781974\n",
      " 0.86665387 0.85135977 0.86054992 0.87993618 0.9001454  0.90919839\n",
      " 0.91740553 0.91912011 0.9278302  0.91790847 0.93592305 0.92810452\n",
      " 0.92408101 0.91415929 0.92088039 0.91905153 0.9115302  0.91674253\n",
      " 0.89477303 0.88663447 0.88528567 0.88418831 0.86928288 0.88110205\n",
      " 0.88738886 0.88368536 0.88478272 0.89122958 0.89031508 0.88432547\n",
      " 0.80844498 0.80766881 0.80665445 0.80532449]\n",
      "4 day output [[0.8036336]]\n",
      "5 day input [0.87668073 0.88249989 0.90061891 0.90178269 0.90025382 0.90942743\n",
      " 0.92040382 0.93952699 0.94071365 0.94297283 0.9562084  0.95157596\n",
      " 0.95011554 0.95942603 0.95461109 0.962096   0.96485723 0.96643179\n",
      " 0.95296802 0.97528594 0.98110504 0.98450518 1.         0.99698776\n",
      " 0.9816984  0.99701057 0.97065351 0.96802917 0.96896481 0.95883274\n",
      " 0.94514069 0.93795243 0.93051307 0.94381715 0.94817582 0.91177787\n",
      " 0.88781687 0.9034942  0.90682598 0.89813159 0.88770281 0.88487307\n",
      " 0.86520223 0.8347604  0.8449381  0.84224539 0.85196667 0.85956572\n",
      " 0.86136849 0.87779895 0.88430259 0.8955503  0.88969785 0.89669335\n",
      " 0.90416892 0.90266014 0.88302237 0.8858572  0.87831299 0.87911314\n",
      " 0.87170616 0.87746714 0.88665735 0.86905426 0.86781974 0.86665387\n",
      " 0.85135977 0.86054992 0.87993618 0.9001454  0.90919839 0.91740553\n",
      " 0.91912011 0.9278302  0.91790847 0.93592305 0.92810452 0.92408101\n",
      " 0.91415929 0.92088039 0.91905153 0.9115302  0.91674253 0.89477303\n",
      " 0.88663447 0.88528567 0.88418831 0.86928288 0.88110205 0.88738886\n",
      " 0.88368536 0.88478272 0.89122958 0.89031508 0.88432547 0.80844498\n",
      " 0.80766881 0.80665445 0.80532449 0.80363357]\n",
      "5 day output [[0.8015676]]\n",
      "6 day input [0.88249989 0.90061891 0.90178269 0.90025382 0.90942743 0.92040382\n",
      " 0.93952699 0.94071365 0.94297283 0.9562084  0.95157596 0.95011554\n",
      " 0.95942603 0.95461109 0.962096   0.96485723 0.96643179 0.95296802\n",
      " 0.97528594 0.98110504 0.98450518 1.         0.99698776 0.9816984\n",
      " 0.99701057 0.97065351 0.96802917 0.96896481 0.95883274 0.94514069\n",
      " 0.93795243 0.93051307 0.94381715 0.94817582 0.91177787 0.88781687\n",
      " 0.9034942  0.90682598 0.89813159 0.88770281 0.88487307 0.86520223\n",
      " 0.8347604  0.8449381  0.84224539 0.85196667 0.85956572 0.86136849\n",
      " 0.87779895 0.88430259 0.8955503  0.88969785 0.89669335 0.90416892\n",
      " 0.90266014 0.88302237 0.8858572  0.87831299 0.87911314 0.87170616\n",
      " 0.87746714 0.88665735 0.86905426 0.86781974 0.86665387 0.85135977\n",
      " 0.86054992 0.87993618 0.9001454  0.90919839 0.91740553 0.91912011\n",
      " 0.9278302  0.91790847 0.93592305 0.92810452 0.92408101 0.91415929\n",
      " 0.92088039 0.91905153 0.9115302  0.91674253 0.89477303 0.88663447\n",
      " 0.88528567 0.88418831 0.86928288 0.88110205 0.88738886 0.88368536\n",
      " 0.88478272 0.89122958 0.89031508 0.88432547 0.80844498 0.80766881\n",
      " 0.80665445 0.80532449 0.80363357 0.80156761]\n",
      "6 day output [[0.7991394]]\n",
      "7 day input [0.90061891 0.90178269 0.90025382 0.90942743 0.92040382 0.93952699\n",
      " 0.94071365 0.94297283 0.9562084  0.95157596 0.95011554 0.95942603\n",
      " 0.95461109 0.962096   0.96485723 0.96643179 0.95296802 0.97528594\n",
      " 0.98110504 0.98450518 1.         0.99698776 0.9816984  0.99701057\n",
      " 0.97065351 0.96802917 0.96896481 0.95883274 0.94514069 0.93795243\n",
      " 0.93051307 0.94381715 0.94817582 0.91177787 0.88781687 0.9034942\n",
      " 0.90682598 0.89813159 0.88770281 0.88487307 0.86520223 0.8347604\n",
      " 0.8449381  0.84224539 0.85196667 0.85956572 0.86136849 0.87779895\n",
      " 0.88430259 0.8955503  0.88969785 0.89669335 0.90416892 0.90266014\n",
      " 0.88302237 0.8858572  0.87831299 0.87911314 0.87170616 0.87746714\n",
      " 0.88665735 0.86905426 0.86781974 0.86665387 0.85135977 0.86054992\n",
      " 0.87993618 0.9001454  0.90919839 0.91740553 0.91912011 0.9278302\n",
      " 0.91790847 0.93592305 0.92810452 0.92408101 0.91415929 0.92088039\n",
      " 0.91905153 0.9115302  0.91674253 0.89477303 0.88663447 0.88528567\n",
      " 0.88418831 0.86928288 0.88110205 0.88738886 0.88368536 0.88478272\n",
      " 0.89122958 0.89031508 0.88432547 0.80844498 0.80766881 0.80665445\n",
      " 0.80532449 0.80363357 0.80156761 0.79913938]\n",
      "7 day output [[0.7963806]]\n",
      "8 day input [0.90178269 0.90025382 0.90942743 0.92040382 0.93952699 0.94071365\n",
      " 0.94297283 0.9562084  0.95157596 0.95011554 0.95942603 0.95461109\n",
      " 0.962096   0.96485723 0.96643179 0.95296802 0.97528594 0.98110504\n",
      " 0.98450518 1.         0.99698776 0.9816984  0.99701057 0.97065351\n",
      " 0.96802917 0.96896481 0.95883274 0.94514069 0.93795243 0.93051307\n",
      " 0.94381715 0.94817582 0.91177787 0.88781687 0.9034942  0.90682598\n",
      " 0.89813159 0.88770281 0.88487307 0.86520223 0.8347604  0.8449381\n",
      " 0.84224539 0.85196667 0.85956572 0.86136849 0.87779895 0.88430259\n",
      " 0.8955503  0.88969785 0.89669335 0.90416892 0.90266014 0.88302237\n",
      " 0.8858572  0.87831299 0.87911314 0.87170616 0.87746714 0.88665735\n",
      " 0.86905426 0.86781974 0.86665387 0.85135977 0.86054992 0.87993618\n",
      " 0.9001454  0.90919839 0.91740553 0.91912011 0.9278302  0.91790847\n",
      " 0.93592305 0.92810452 0.92408101 0.91415929 0.92088039 0.91905153\n",
      " 0.9115302  0.91674253 0.89477303 0.88663447 0.88528567 0.88418831\n",
      " 0.86928288 0.88110205 0.88738886 0.88368536 0.88478272 0.89122958\n",
      " 0.89031508 0.88432547 0.80844498 0.80766881 0.80665445 0.80532449\n",
      " 0.80363357 0.80156761 0.79913938 0.79638058]\n"
     ]
    },
    {
     "name": "stdout",
     "output_type": "stream",
     "text": [
      "8 day output [[0.7933345]]\n",
      "9 day input [0.90025382 0.90942743 0.92040382 0.93952699 0.94071365 0.94297283\n",
      " 0.9562084  0.95157596 0.95011554 0.95942603 0.95461109 0.962096\n",
      " 0.96485723 0.96643179 0.95296802 0.97528594 0.98110504 0.98450518\n",
      " 1.         0.99698776 0.9816984  0.99701057 0.97065351 0.96802917\n",
      " 0.96896481 0.95883274 0.94514069 0.93795243 0.93051307 0.94381715\n",
      " 0.94817582 0.91177787 0.88781687 0.9034942  0.90682598 0.89813159\n",
      " 0.88770281 0.88487307 0.86520223 0.8347604  0.8449381  0.84224539\n",
      " 0.85196667 0.85956572 0.86136849 0.87779895 0.88430259 0.8955503\n",
      " 0.88969785 0.89669335 0.90416892 0.90266014 0.88302237 0.8858572\n",
      " 0.87831299 0.87911314 0.87170616 0.87746714 0.88665735 0.86905426\n",
      " 0.86781974 0.86665387 0.85135977 0.86054992 0.87993618 0.9001454\n",
      " 0.90919839 0.91740553 0.91912011 0.9278302  0.91790847 0.93592305\n",
      " 0.92810452 0.92408101 0.91415929 0.92088039 0.91905153 0.9115302\n",
      " 0.91674253 0.89477303 0.88663447 0.88528567 0.88418831 0.86928288\n",
      " 0.88110205 0.88738886 0.88368536 0.88478272 0.89122958 0.89031508\n",
      " 0.88432547 0.80844498 0.80766881 0.80665445 0.80532449 0.80363357\n",
      " 0.80156761 0.79913938 0.79638058 0.79333448]\n",
      "9 day output [[0.79004973]]\n",
      "10 day input [0.90942743 0.92040382 0.93952699 0.94071365 0.94297283 0.9562084\n",
      " 0.95157596 0.95011554 0.95942603 0.95461109 0.962096   0.96485723\n",
      " 0.96643179 0.95296802 0.97528594 0.98110504 0.98450518 1.\n",
      " 0.99698776 0.9816984  0.99701057 0.97065351 0.96802917 0.96896481\n",
      " 0.95883274 0.94514069 0.93795243 0.93051307 0.94381715 0.94817582\n",
      " 0.91177787 0.88781687 0.9034942  0.90682598 0.89813159 0.88770281\n",
      " 0.88487307 0.86520223 0.8347604  0.8449381  0.84224539 0.85196667\n",
      " 0.85956572 0.86136849 0.87779895 0.88430259 0.8955503  0.88969785\n",
      " 0.89669335 0.90416892 0.90266014 0.88302237 0.8858572  0.87831299\n",
      " 0.87911314 0.87170616 0.87746714 0.88665735 0.86905426 0.86781974\n",
      " 0.86665387 0.85135977 0.86054992 0.87993618 0.9001454  0.90919839\n",
      " 0.91740553 0.91912011 0.9278302  0.91790847 0.93592305 0.92810452\n",
      " 0.92408101 0.91415929 0.92088039 0.91905153 0.9115302  0.91674253\n",
      " 0.89477303 0.88663447 0.88528567 0.88418831 0.86928288 0.88110205\n",
      " 0.88738886 0.88368536 0.88478272 0.89122958 0.89031508 0.88432547\n",
      " 0.80844498 0.80766881 0.80665445 0.80532449 0.80363357 0.80156761\n",
      " 0.79913938 0.79638058 0.79333448 0.79004973]\n",
      "10 day output [[0.78657746]]\n",
      "11 day input [0.92040382 0.93952699 0.94071365 0.94297283 0.9562084  0.95157596\n",
      " 0.95011554 0.95942603 0.95461109 0.962096   0.96485723 0.96643179\n",
      " 0.95296802 0.97528594 0.98110504 0.98450518 1.         0.99698776\n",
      " 0.9816984  0.99701057 0.97065351 0.96802917 0.96896481 0.95883274\n",
      " 0.94514069 0.93795243 0.93051307 0.94381715 0.94817582 0.91177787\n",
      " 0.88781687 0.9034942  0.90682598 0.89813159 0.88770281 0.88487307\n",
      " 0.86520223 0.8347604  0.8449381  0.84224539 0.85196667 0.85956572\n",
      " 0.86136849 0.87779895 0.88430259 0.8955503  0.88969785 0.89669335\n",
      " 0.90416892 0.90266014 0.88302237 0.8858572  0.87831299 0.87911314\n",
      " 0.87170616 0.87746714 0.88665735 0.86905426 0.86781974 0.86665387\n",
      " 0.85135977 0.86054992 0.87993618 0.9001454  0.90919839 0.91740553\n",
      " 0.91912011 0.9278302  0.91790847 0.93592305 0.92810452 0.92408101\n",
      " 0.91415929 0.92088039 0.91905153 0.9115302  0.91674253 0.89477303\n",
      " 0.88663447 0.88528567 0.88418831 0.86928288 0.88110205 0.88738886\n",
      " 0.88368536 0.88478272 0.89122958 0.89031508 0.88432547 0.80844498\n",
      " 0.80766881 0.80665445 0.80532449 0.80363357 0.80156761 0.79913938\n",
      " 0.79638058 0.79333448 0.79004973 0.78657746]\n",
      "11 day output [[0.782965]]\n",
      "12 day input [0.93952699 0.94071365 0.94297283 0.9562084  0.95157596 0.95011554\n",
      " 0.95942603 0.95461109 0.962096   0.96485723 0.96643179 0.95296802\n",
      " 0.97528594 0.98110504 0.98450518 1.         0.99698776 0.9816984\n",
      " 0.99701057 0.97065351 0.96802917 0.96896481 0.95883274 0.94514069\n",
      " 0.93795243 0.93051307 0.94381715 0.94817582 0.91177787 0.88781687\n",
      " 0.9034942  0.90682598 0.89813159 0.88770281 0.88487307 0.86520223\n",
      " 0.8347604  0.8449381  0.84224539 0.85196667 0.85956572 0.86136849\n",
      " 0.87779895 0.88430259 0.8955503  0.88969785 0.89669335 0.90416892\n",
      " 0.90266014 0.88302237 0.8858572  0.87831299 0.87911314 0.87170616\n",
      " 0.87746714 0.88665735 0.86905426 0.86781974 0.86665387 0.85135977\n",
      " 0.86054992 0.87993618 0.9001454  0.90919839 0.91740553 0.91912011\n",
      " 0.9278302  0.91790847 0.93592305 0.92810452 0.92408101 0.91415929\n",
      " 0.92088039 0.91905153 0.9115302  0.91674253 0.89477303 0.88663447\n",
      " 0.88528567 0.88418831 0.86928288 0.88110205 0.88738886 0.88368536\n",
      " 0.88478272 0.89122958 0.89031508 0.88432547 0.80844498 0.80766881\n",
      " 0.80665445 0.80532449 0.80363357 0.80156761 0.79913938 0.79638058\n",
      " 0.79333448 0.79004973 0.78657746 0.782965  ]\n",
      "12 day output [[0.77925515]]\n",
      "13 day input [0.94071365 0.94297283 0.9562084  0.95157596 0.95011554 0.95942603\n",
      " 0.95461109 0.962096   0.96485723 0.96643179 0.95296802 0.97528594\n",
      " 0.98110504 0.98450518 1.         0.99698776 0.9816984  0.99701057\n",
      " 0.97065351 0.96802917 0.96896481 0.95883274 0.94514069 0.93795243\n",
      " 0.93051307 0.94381715 0.94817582 0.91177787 0.88781687 0.9034942\n",
      " 0.90682598 0.89813159 0.88770281 0.88487307 0.86520223 0.8347604\n",
      " 0.8449381  0.84224539 0.85196667 0.85956572 0.86136849 0.87779895\n",
      " 0.88430259 0.8955503  0.88969785 0.89669335 0.90416892 0.90266014\n",
      " 0.88302237 0.8858572  0.87831299 0.87911314 0.87170616 0.87746714\n",
      " 0.88665735 0.86905426 0.86781974 0.86665387 0.85135977 0.86054992\n",
      " 0.87993618 0.9001454  0.90919839 0.91740553 0.91912011 0.9278302\n",
      " 0.91790847 0.93592305 0.92810452 0.92408101 0.91415929 0.92088039\n",
      " 0.91905153 0.9115302  0.91674253 0.89477303 0.88663447 0.88528567\n",
      " 0.88418831 0.86928288 0.88110205 0.88738886 0.88368536 0.88478272\n",
      " 0.89122958 0.89031508 0.88432547 0.80844498 0.80766881 0.80665445\n",
      " 0.80532449 0.80363357 0.80156761 0.79913938 0.79638058 0.79333448\n",
      " 0.79004973 0.78657746 0.782965   0.77925515]\n",
      "13 day output [[0.7754848]]\n",
      "14 day input [0.94297283 0.9562084  0.95157596 0.95011554 0.95942603 0.95461109\n",
      " 0.962096   0.96485723 0.96643179 0.95296802 0.97528594 0.98110504\n",
      " 0.98450518 1.         0.99698776 0.9816984  0.99701057 0.97065351\n",
      " 0.96802917 0.96896481 0.95883274 0.94514069 0.93795243 0.93051307\n",
      " 0.94381715 0.94817582 0.91177787 0.88781687 0.9034942  0.90682598\n",
      " 0.89813159 0.88770281 0.88487307 0.86520223 0.8347604  0.8449381\n",
      " 0.84224539 0.85196667 0.85956572 0.86136849 0.87779895 0.88430259\n",
      " 0.8955503  0.88969785 0.89669335 0.90416892 0.90266014 0.88302237\n",
      " 0.8858572  0.87831299 0.87911314 0.87170616 0.87746714 0.88665735\n",
      " 0.86905426 0.86781974 0.86665387 0.85135977 0.86054992 0.87993618\n",
      " 0.9001454  0.90919839 0.91740553 0.91912011 0.9278302  0.91790847\n",
      " 0.93592305 0.92810452 0.92408101 0.91415929 0.92088039 0.91905153\n",
      " 0.9115302  0.91674253 0.89477303 0.88663447 0.88528567 0.88418831\n",
      " 0.86928288 0.88110205 0.88738886 0.88368536 0.88478272 0.89122958\n",
      " 0.89031508 0.88432547 0.80844498 0.80766881 0.80665445 0.80532449\n",
      " 0.80363357 0.80156761 0.79913938 0.79638058 0.79333448 0.79004973\n",
      " 0.78657746 0.782965   0.77925515 0.7754848 ]\n",
      "14 day output [[0.77168417]]\n",
      "15 day input [0.9562084  0.95157596 0.95011554 0.95942603 0.95461109 0.962096\n",
      " 0.96485723 0.96643179 0.95296802 0.97528594 0.98110504 0.98450518\n",
      " 1.         0.99698776 0.9816984  0.99701057 0.97065351 0.96802917\n",
      " 0.96896481 0.95883274 0.94514069 0.93795243 0.93051307 0.94381715\n",
      " 0.94817582 0.91177787 0.88781687 0.9034942  0.90682598 0.89813159\n",
      " 0.88770281 0.88487307 0.86520223 0.8347604  0.8449381  0.84224539\n",
      " 0.85196667 0.85956572 0.86136849 0.87779895 0.88430259 0.8955503\n",
      " 0.88969785 0.89669335 0.90416892 0.90266014 0.88302237 0.8858572\n",
      " 0.87831299 0.87911314 0.87170616 0.87746714 0.88665735 0.86905426\n",
      " 0.86781974 0.86665387 0.85135977 0.86054992 0.87993618 0.9001454\n",
      " 0.90919839 0.91740553 0.91912011 0.9278302  0.91790847 0.93592305\n",
      " 0.92810452 0.92408101 0.91415929 0.92088039 0.91905153 0.9115302\n",
      " 0.91674253 0.89477303 0.88663447 0.88528567 0.88418831 0.86928288\n",
      " 0.88110205 0.88738886 0.88368536 0.88478272 0.89122958 0.89031508\n",
      " 0.88432547 0.80844498 0.80766881 0.80665445 0.80532449 0.80363357\n",
      " 0.80156761 0.79913938 0.79638058 0.79333448 0.79004973 0.78657746\n",
      " 0.782965   0.77925515 0.7754848  0.77168417]\n",
      "15 day output [[0.7678778]]\n",
      "16 day input [0.95157596 0.95011554 0.95942603 0.95461109 0.962096   0.96485723\n",
      " 0.96643179 0.95296802 0.97528594 0.98110504 0.98450518 1.\n",
      " 0.99698776 0.9816984  0.99701057 0.97065351 0.96802917 0.96896481\n",
      " 0.95883274 0.94514069 0.93795243 0.93051307 0.94381715 0.94817582\n",
      " 0.91177787 0.88781687 0.9034942  0.90682598 0.89813159 0.88770281\n",
      " 0.88487307 0.86520223 0.8347604  0.8449381  0.84224539 0.85196667\n",
      " 0.85956572 0.86136849 0.87779895 0.88430259 0.8955503  0.88969785\n",
      " 0.89669335 0.90416892 0.90266014 0.88302237 0.8858572  0.87831299\n",
      " 0.87911314 0.87170616 0.87746714 0.88665735 0.86905426 0.86781974\n",
      " 0.86665387 0.85135977 0.86054992 0.87993618 0.9001454  0.90919839\n",
      " 0.91740553 0.91912011 0.9278302  0.91790847 0.93592305 0.92810452\n",
      " 0.92408101 0.91415929 0.92088039 0.91905153 0.9115302  0.91674253\n",
      " 0.89477303 0.88663447 0.88528567 0.88418831 0.86928288 0.88110205\n",
      " 0.88738886 0.88368536 0.88478272 0.89122958 0.89031508 0.88432547\n",
      " 0.80844498 0.80766881 0.80665445 0.80532449 0.80363357 0.80156761\n",
      " 0.79913938 0.79638058 0.79333448 0.79004973 0.78657746 0.782965\n",
      " 0.77925515 0.7754848  0.77168417 0.76787782]\n",
      "16 day output [[0.7640845]]\n",
      "17 day input [0.95011554 0.95942603 0.95461109 0.962096   0.96485723 0.96643179\n",
      " 0.95296802 0.97528594 0.98110504 0.98450518 1.         0.99698776\n",
      " 0.9816984  0.99701057 0.97065351 0.96802917 0.96896481 0.95883274\n",
      " 0.94514069 0.93795243 0.93051307 0.94381715 0.94817582 0.91177787\n",
      " 0.88781687 0.9034942  0.90682598 0.89813159 0.88770281 0.88487307\n",
      " 0.86520223 0.8347604  0.8449381  0.84224539 0.85196667 0.85956572\n",
      " 0.86136849 0.87779895 0.88430259 0.8955503  0.88969785 0.89669335\n",
      " 0.90416892 0.90266014 0.88302237 0.8858572  0.87831299 0.87911314\n",
      " 0.87170616 0.87746714 0.88665735 0.86905426 0.86781974 0.86665387\n",
      " 0.85135977 0.86054992 0.87993618 0.9001454  0.90919839 0.91740553\n",
      " 0.91912011 0.9278302  0.91790847 0.93592305 0.92810452 0.92408101\n",
      " 0.91415929 0.92088039 0.91905153 0.9115302  0.91674253 0.89477303\n",
      " 0.88663447 0.88528567 0.88418831 0.86928288 0.88110205 0.88738886\n",
      " 0.88368536 0.88478272 0.89122958 0.89031508 0.88432547 0.80844498\n",
      " 0.80766881 0.80665445 0.80532449 0.80363357 0.80156761 0.79913938\n",
      " 0.79638058 0.79333448 0.79004973 0.78657746 0.782965   0.77925515\n",
      " 0.7754848  0.77168417 0.76787782 0.76408452]\n",
      "17 day output [[0.7603185]]\n",
      "18 day input [0.95942603 0.95461109 0.962096   0.96485723 0.96643179 0.95296802\n",
      " 0.97528594 0.98110504 0.98450518 1.         0.99698776 0.9816984\n",
      " 0.99701057 0.97065351 0.96802917 0.96896481 0.95883274 0.94514069\n",
      " 0.93795243 0.93051307 0.94381715 0.94817582 0.91177787 0.88781687\n",
      " 0.9034942  0.90682598 0.89813159 0.88770281 0.88487307 0.86520223\n",
      " 0.8347604  0.8449381  0.84224539 0.85196667 0.85956572 0.86136849\n",
      " 0.87779895 0.88430259 0.8955503  0.88969785 0.89669335 0.90416892\n",
      " 0.90266014 0.88302237 0.8858572  0.87831299 0.87911314 0.87170616\n",
      " 0.87746714 0.88665735 0.86905426 0.86781974 0.86665387 0.85135977\n",
      " 0.86054992 0.87993618 0.9001454  0.90919839 0.91740553 0.91912011\n",
      " 0.9278302  0.91790847 0.93592305 0.92810452 0.92408101 0.91415929\n",
      " 0.92088039 0.91905153 0.9115302  0.91674253 0.89477303 0.88663447\n",
      " 0.88528567 0.88418831 0.86928288 0.88110205 0.88738886 0.88368536\n",
      " 0.88478272 0.89122958 0.89031508 0.88432547 0.80844498 0.80766881\n",
      " 0.80665445 0.80532449 0.80363357 0.80156761 0.79913938 0.79638058\n",
      " 0.79333448 0.79004973 0.78657746 0.782965   0.77925515 0.7754848\n",
      " 0.77168417 0.76787782 0.76408452 0.76031852]\n"
     ]
    },
    {
     "name": "stdout",
     "output_type": "stream",
     "text": [
      "18 day output [[0.7565902]]\n",
      "19 day input [0.95461109 0.962096   0.96485723 0.96643179 0.95296802 0.97528594\n",
      " 0.98110504 0.98450518 1.         0.99698776 0.9816984  0.99701057\n",
      " 0.97065351 0.96802917 0.96896481 0.95883274 0.94514069 0.93795243\n",
      " 0.93051307 0.94381715 0.94817582 0.91177787 0.88781687 0.9034942\n",
      " 0.90682598 0.89813159 0.88770281 0.88487307 0.86520223 0.8347604\n",
      " 0.8449381  0.84224539 0.85196667 0.85956572 0.86136849 0.87779895\n",
      " 0.88430259 0.8955503  0.88969785 0.89669335 0.90416892 0.90266014\n",
      " 0.88302237 0.8858572  0.87831299 0.87911314 0.87170616 0.87746714\n",
      " 0.88665735 0.86905426 0.86781974 0.86665387 0.85135977 0.86054992\n",
      " 0.87993618 0.9001454  0.90919839 0.91740553 0.91912011 0.9278302\n",
      " 0.91790847 0.93592305 0.92810452 0.92408101 0.91415929 0.92088039\n",
      " 0.91905153 0.9115302  0.91674253 0.89477303 0.88663447 0.88528567\n",
      " 0.88418831 0.86928288 0.88110205 0.88738886 0.88368536 0.88478272\n",
      " 0.89122958 0.89031508 0.88432547 0.80844498 0.80766881 0.80665445\n",
      " 0.80532449 0.80363357 0.80156761 0.79913938 0.79638058 0.79333448\n",
      " 0.79004973 0.78657746 0.782965   0.77925515 0.7754848  0.77168417\n",
      " 0.76787782 0.76408452 0.76031852 0.75659019]\n",
      "19 day output [[0.7529066]]\n",
      "20 day input [0.962096   0.96485723 0.96643179 0.95296802 0.97528594 0.98110504\n",
      " 0.98450518 1.         0.99698776 0.9816984  0.99701057 0.97065351\n",
      " 0.96802917 0.96896481 0.95883274 0.94514069 0.93795243 0.93051307\n",
      " 0.94381715 0.94817582 0.91177787 0.88781687 0.9034942  0.90682598\n",
      " 0.89813159 0.88770281 0.88487307 0.86520223 0.8347604  0.8449381\n",
      " 0.84224539 0.85196667 0.85956572 0.86136849 0.87779895 0.88430259\n",
      " 0.8955503  0.88969785 0.89669335 0.90416892 0.90266014 0.88302237\n",
      " 0.8858572  0.87831299 0.87911314 0.87170616 0.87746714 0.88665735\n",
      " 0.86905426 0.86781974 0.86665387 0.85135977 0.86054992 0.87993618\n",
      " 0.9001454  0.90919839 0.91740553 0.91912011 0.9278302  0.91790847\n",
      " 0.93592305 0.92810452 0.92408101 0.91415929 0.92088039 0.91905153\n",
      " 0.9115302  0.91674253 0.89477303 0.88663447 0.88528567 0.88418831\n",
      " 0.86928288 0.88110205 0.88738886 0.88368536 0.88478272 0.89122958\n",
      " 0.89031508 0.88432547 0.80844498 0.80766881 0.80665445 0.80532449\n",
      " 0.80363357 0.80156761 0.79913938 0.79638058 0.79333448 0.79004973\n",
      " 0.78657746 0.782965   0.77925515 0.7754848  0.77168417 0.76787782\n",
      " 0.76408452 0.76031852 0.75659019 0.75290662]\n",
      "20 day output [[0.749272]]\n",
      "21 day input [0.96485723 0.96643179 0.95296802 0.97528594 0.98110504 0.98450518\n",
      " 1.         0.99698776 0.9816984  0.99701057 0.97065351 0.96802917\n",
      " 0.96896481 0.95883274 0.94514069 0.93795243 0.93051307 0.94381715\n",
      " 0.94817582 0.91177787 0.88781687 0.9034942  0.90682598 0.89813159\n",
      " 0.88770281 0.88487307 0.86520223 0.8347604  0.8449381  0.84224539\n",
      " 0.85196667 0.85956572 0.86136849 0.87779895 0.88430259 0.8955503\n",
      " 0.88969785 0.89669335 0.90416892 0.90266014 0.88302237 0.8858572\n",
      " 0.87831299 0.87911314 0.87170616 0.87746714 0.88665735 0.86905426\n",
      " 0.86781974 0.86665387 0.85135977 0.86054992 0.87993618 0.9001454\n",
      " 0.90919839 0.91740553 0.91912011 0.9278302  0.91790847 0.93592305\n",
      " 0.92810452 0.92408101 0.91415929 0.92088039 0.91905153 0.9115302\n",
      " 0.91674253 0.89477303 0.88663447 0.88528567 0.88418831 0.86928288\n",
      " 0.88110205 0.88738886 0.88368536 0.88478272 0.89122958 0.89031508\n",
      " 0.88432547 0.80844498 0.80766881 0.80665445 0.80532449 0.80363357\n",
      " 0.80156761 0.79913938 0.79638058 0.79333448 0.79004973 0.78657746\n",
      " 0.782965   0.77925515 0.7754848  0.77168417 0.76787782 0.76408452\n",
      " 0.76031852 0.75659019 0.75290662 0.74927199]\n",
      "21 day output [[0.74568903]]\n",
      "22 day input [0.96643179 0.95296802 0.97528594 0.98110504 0.98450518 1.\n",
      " 0.99698776 0.9816984  0.99701057 0.97065351 0.96802917 0.96896481\n",
      " 0.95883274 0.94514069 0.93795243 0.93051307 0.94381715 0.94817582\n",
      " 0.91177787 0.88781687 0.9034942  0.90682598 0.89813159 0.88770281\n",
      " 0.88487307 0.86520223 0.8347604  0.8449381  0.84224539 0.85196667\n",
      " 0.85956572 0.86136849 0.87779895 0.88430259 0.8955503  0.88969785\n",
      " 0.89669335 0.90416892 0.90266014 0.88302237 0.8858572  0.87831299\n",
      " 0.87911314 0.87170616 0.87746714 0.88665735 0.86905426 0.86781974\n",
      " 0.86665387 0.85135977 0.86054992 0.87993618 0.9001454  0.90919839\n",
      " 0.91740553 0.91912011 0.9278302  0.91790847 0.93592305 0.92810452\n",
      " 0.92408101 0.91415929 0.92088039 0.91905153 0.9115302  0.91674253\n",
      " 0.89477303 0.88663447 0.88528567 0.88418831 0.86928288 0.88110205\n",
      " 0.88738886 0.88368536 0.88478272 0.89122958 0.89031508 0.88432547\n",
      " 0.80844498 0.80766881 0.80665445 0.80532449 0.80363357 0.80156761\n",
      " 0.79913938 0.79638058 0.79333448 0.79004973 0.78657746 0.782965\n",
      " 0.77925515 0.7754848  0.77168417 0.76787782 0.76408452 0.76031852\n",
      " 0.75659019 0.75290662 0.74927199 0.74568903]\n",
      "22 day output [[0.7421586]]\n",
      "23 day input [0.95296802 0.97528594 0.98110504 0.98450518 1.         0.99698776\n",
      " 0.9816984  0.99701057 0.97065351 0.96802917 0.96896481 0.95883274\n",
      " 0.94514069 0.93795243 0.93051307 0.94381715 0.94817582 0.91177787\n",
      " 0.88781687 0.9034942  0.90682598 0.89813159 0.88770281 0.88487307\n",
      " 0.86520223 0.8347604  0.8449381  0.84224539 0.85196667 0.85956572\n",
      " 0.86136849 0.87779895 0.88430259 0.8955503  0.88969785 0.89669335\n",
      " 0.90416892 0.90266014 0.88302237 0.8858572  0.87831299 0.87911314\n",
      " 0.87170616 0.87746714 0.88665735 0.86905426 0.86781974 0.86665387\n",
      " 0.85135977 0.86054992 0.87993618 0.9001454  0.90919839 0.91740553\n",
      " 0.91912011 0.9278302  0.91790847 0.93592305 0.92810452 0.92408101\n",
      " 0.91415929 0.92088039 0.91905153 0.9115302  0.91674253 0.89477303\n",
      " 0.88663447 0.88528567 0.88418831 0.86928288 0.88110205 0.88738886\n",
      " 0.88368536 0.88478272 0.89122958 0.89031508 0.88432547 0.80844498\n",
      " 0.80766881 0.80665445 0.80532449 0.80363357 0.80156761 0.79913938\n",
      " 0.79638058 0.79333448 0.79004973 0.78657746 0.782965   0.77925515\n",
      " 0.7754848  0.77168417 0.76787782 0.76408452 0.76031852 0.75659019\n",
      " 0.75290662 0.74927199 0.74568903 0.74215859]\n",
      "23 day output [[0.7386808]]\n",
      "24 day input [0.97528594 0.98110504 0.98450518 1.         0.99698776 0.9816984\n",
      " 0.99701057 0.97065351 0.96802917 0.96896481 0.95883274 0.94514069\n",
      " 0.93795243 0.93051307 0.94381715 0.94817582 0.91177787 0.88781687\n",
      " 0.9034942  0.90682598 0.89813159 0.88770281 0.88487307 0.86520223\n",
      " 0.8347604  0.8449381  0.84224539 0.85196667 0.85956572 0.86136849\n",
      " 0.87779895 0.88430259 0.8955503  0.88969785 0.89669335 0.90416892\n",
      " 0.90266014 0.88302237 0.8858572  0.87831299 0.87911314 0.87170616\n",
      " 0.87746714 0.88665735 0.86905426 0.86781974 0.86665387 0.85135977\n",
      " 0.86054992 0.87993618 0.9001454  0.90919839 0.91740553 0.91912011\n",
      " 0.9278302  0.91790847 0.93592305 0.92810452 0.92408101 0.91415929\n",
      " 0.92088039 0.91905153 0.9115302  0.91674253 0.89477303 0.88663447\n",
      " 0.88528567 0.88418831 0.86928288 0.88110205 0.88738886 0.88368536\n",
      " 0.88478272 0.89122958 0.89031508 0.88432547 0.80844498 0.80766881\n",
      " 0.80665445 0.80532449 0.80363357 0.80156761 0.79913938 0.79638058\n",
      " 0.79333448 0.79004973 0.78657746 0.782965   0.77925515 0.7754848\n",
      " 0.77168417 0.76787782 0.76408452 0.76031852 0.75659019 0.75290662\n",
      " 0.74927199 0.74568903 0.74215859 0.73868078]\n",
      "24 day output [[0.73525476]]\n",
      "25 day input [0.98110504 0.98450518 1.         0.99698776 0.9816984  0.99701057\n",
      " 0.97065351 0.96802917 0.96896481 0.95883274 0.94514069 0.93795243\n",
      " 0.93051307 0.94381715 0.94817582 0.91177787 0.88781687 0.9034942\n",
      " 0.90682598 0.89813159 0.88770281 0.88487307 0.86520223 0.8347604\n",
      " 0.8449381  0.84224539 0.85196667 0.85956572 0.86136849 0.87779895\n",
      " 0.88430259 0.8955503  0.88969785 0.89669335 0.90416892 0.90266014\n",
      " 0.88302237 0.8858572  0.87831299 0.87911314 0.87170616 0.87746714\n",
      " 0.88665735 0.86905426 0.86781974 0.86665387 0.85135977 0.86054992\n",
      " 0.87993618 0.9001454  0.90919839 0.91740553 0.91912011 0.9278302\n",
      " 0.91790847 0.93592305 0.92810452 0.92408101 0.91415929 0.92088039\n",
      " 0.91905153 0.9115302  0.91674253 0.89477303 0.88663447 0.88528567\n",
      " 0.88418831 0.86928288 0.88110205 0.88738886 0.88368536 0.88478272\n",
      " 0.89122958 0.89031508 0.88432547 0.80844498 0.80766881 0.80665445\n",
      " 0.80532449 0.80363357 0.80156761 0.79913938 0.79638058 0.79333448\n",
      " 0.79004973 0.78657746 0.782965   0.77925515 0.7754848  0.77168417\n",
      " 0.76787782 0.76408452 0.76031852 0.75659019 0.75290662 0.74927199\n",
      " 0.74568903 0.74215859 0.73868078 0.73525476]\n",
      "25 day output [[0.73187876]]\n",
      "26 day input [0.98450518 1.         0.99698776 0.9816984  0.99701057 0.97065351\n",
      " 0.96802917 0.96896481 0.95883274 0.94514069 0.93795243 0.93051307\n",
      " 0.94381715 0.94817582 0.91177787 0.88781687 0.9034942  0.90682598\n",
      " 0.89813159 0.88770281 0.88487307 0.86520223 0.8347604  0.8449381\n",
      " 0.84224539 0.85196667 0.85956572 0.86136849 0.87779895 0.88430259\n",
      " 0.8955503  0.88969785 0.89669335 0.90416892 0.90266014 0.88302237\n",
      " 0.8858572  0.87831299 0.87911314 0.87170616 0.87746714 0.88665735\n",
      " 0.86905426 0.86781974 0.86665387 0.85135977 0.86054992 0.87993618\n",
      " 0.9001454  0.90919839 0.91740553 0.91912011 0.9278302  0.91790847\n",
      " 0.93592305 0.92810452 0.92408101 0.91415929 0.92088039 0.91905153\n",
      " 0.9115302  0.91674253 0.89477303 0.88663447 0.88528567 0.88418831\n",
      " 0.86928288 0.88110205 0.88738886 0.88368536 0.88478272 0.89122958\n",
      " 0.89031508 0.88432547 0.80844498 0.80766881 0.80665445 0.80532449\n",
      " 0.80363357 0.80156761 0.79913938 0.79638058 0.79333448 0.79004973\n",
      " 0.78657746 0.782965   0.77925515 0.7754848  0.77168417 0.76787782\n",
      " 0.76408452 0.76031852 0.75659019 0.75290662 0.74927199 0.74568903\n",
      " 0.74215859 0.73868078 0.73525476 0.73187876]\n",
      "26 day output [[0.7285522]]\n",
      "27 day input [1.         0.99698776 0.9816984  0.99701057 0.97065351 0.96802917\n",
      " 0.96896481 0.95883274 0.94514069 0.93795243 0.93051307 0.94381715\n",
      " 0.94817582 0.91177787 0.88781687 0.9034942  0.90682598 0.89813159\n",
      " 0.88770281 0.88487307 0.86520223 0.8347604  0.8449381  0.84224539\n",
      " 0.85196667 0.85956572 0.86136849 0.87779895 0.88430259 0.8955503\n",
      " 0.88969785 0.89669335 0.90416892 0.90266014 0.88302237 0.8858572\n",
      " 0.87831299 0.87911314 0.87170616 0.87746714 0.88665735 0.86905426\n",
      " 0.86781974 0.86665387 0.85135977 0.86054992 0.87993618 0.9001454\n",
      " 0.90919839 0.91740553 0.91912011 0.9278302  0.91790847 0.93592305\n",
      " 0.92810452 0.92408101 0.91415929 0.92088039 0.91905153 0.9115302\n",
      " 0.91674253 0.89477303 0.88663447 0.88528567 0.88418831 0.86928288\n",
      " 0.88110205 0.88738886 0.88368536 0.88478272 0.89122958 0.89031508\n",
      " 0.88432547 0.80844498 0.80766881 0.80665445 0.80532449 0.80363357\n",
      " 0.80156761 0.79913938 0.79638058 0.79333448 0.79004973 0.78657746\n",
      " 0.782965   0.77925515 0.7754848  0.77168417 0.76787782 0.76408452\n",
      " 0.76031852 0.75659019 0.75290662 0.74927199 0.74568903 0.74215859\n",
      " 0.73868078 0.73525476 0.73187876 0.72855222]\n"
     ]
    },
    {
     "name": "stdout",
     "output_type": "stream",
     "text": [
      "27 day output [[0.72527325]]\n",
      "28 day input [0.99698776 0.9816984  0.99701057 0.97065351 0.96802917 0.96896481\n",
      " 0.95883274 0.94514069 0.93795243 0.93051307 0.94381715 0.94817582\n",
      " 0.91177787 0.88781687 0.9034942  0.90682598 0.89813159 0.88770281\n",
      " 0.88487307 0.86520223 0.8347604  0.8449381  0.84224539 0.85196667\n",
      " 0.85956572 0.86136849 0.87779895 0.88430259 0.8955503  0.88969785\n",
      " 0.89669335 0.90416892 0.90266014 0.88302237 0.8858572  0.87831299\n",
      " 0.87911314 0.87170616 0.87746714 0.88665735 0.86905426 0.86781974\n",
      " 0.86665387 0.85135977 0.86054992 0.87993618 0.9001454  0.90919839\n",
      " 0.91740553 0.91912011 0.9278302  0.91790847 0.93592305 0.92810452\n",
      " 0.92408101 0.91415929 0.92088039 0.91905153 0.9115302  0.91674253\n",
      " 0.89477303 0.88663447 0.88528567 0.88418831 0.86928288 0.88110205\n",
      " 0.88738886 0.88368536 0.88478272 0.89122958 0.89031508 0.88432547\n",
      " 0.80844498 0.80766881 0.80665445 0.80532449 0.80363357 0.80156761\n",
      " 0.79913938 0.79638058 0.79333448 0.79004973 0.78657746 0.782965\n",
      " 0.77925515 0.7754848  0.77168417 0.76787782 0.76408452 0.76031852\n",
      " 0.75659019 0.75290662 0.74927199 0.74568903 0.74215859 0.73868078\n",
      " 0.73525476 0.73187876 0.72855222 0.72527325]\n",
      "28 day output [[0.7220402]]\n",
      "29 day input [0.9816984  0.99701057 0.97065351 0.96802917 0.96896481 0.95883274\n",
      " 0.94514069 0.93795243 0.93051307 0.94381715 0.94817582 0.91177787\n",
      " 0.88781687 0.9034942  0.90682598 0.89813159 0.88770281 0.88487307\n",
      " 0.86520223 0.8347604  0.8449381  0.84224539 0.85196667 0.85956572\n",
      " 0.86136849 0.87779895 0.88430259 0.8955503  0.88969785 0.89669335\n",
      " 0.90416892 0.90266014 0.88302237 0.8858572  0.87831299 0.87911314\n",
      " 0.87170616 0.87746714 0.88665735 0.86905426 0.86781974 0.86665387\n",
      " 0.85135977 0.86054992 0.87993618 0.9001454  0.90919839 0.91740553\n",
      " 0.91912011 0.9278302  0.91790847 0.93592305 0.92810452 0.92408101\n",
      " 0.91415929 0.92088039 0.91905153 0.9115302  0.91674253 0.89477303\n",
      " 0.88663447 0.88528567 0.88418831 0.86928288 0.88110205 0.88738886\n",
      " 0.88368536 0.88478272 0.89122958 0.89031508 0.88432547 0.80844498\n",
      " 0.80766881 0.80665445 0.80532449 0.80363357 0.80156761 0.79913938\n",
      " 0.79638058 0.79333448 0.79004973 0.78657746 0.782965   0.77925515\n",
      " 0.7754848  0.77168417 0.76787782 0.76408452 0.76031852 0.75659019\n",
      " 0.75290662 0.74927199 0.74568903 0.74215859 0.73868078 0.73525476\n",
      " 0.73187876 0.72855222 0.72527325 0.72204018]\n",
      "29 day output [[0.7188517]]\n",
      "[[0.8084449768066406], [0.8076688051223755], [0.8066544532775879], [0.8053244948387146], [0.8036335706710815], [0.8015676140785217], [0.7991393804550171], [0.7963805794715881], [0.7933344841003418], [0.7900497317314148], [0.7865774631500244], [0.7829650044441223], [0.7792551517486572], [0.7754848003387451], [0.7716841697692871], [0.7678778171539307], [0.76408451795578], [0.7603185176849365], [0.7565901875495911], [0.7529066205024719], [0.7492719888687134], [0.7456890344619751], [0.7421585917472839], [0.7386807799339294], [0.7352547645568848], [0.7318787574768066], [0.7285522222518921], [0.7252732515335083], [0.7220401763916016], [0.7188516855239868]]\n"
     ]
    }
   ],
   "source": [
    "# Demonstrate predictions for next 30 days\n",
    "from numpy import array\n",
    "\n",
    "lst_output=[]\n",
    "n_steps=100\n",
    "i=0\n",
    "while(i<30):\n",
    "    \n",
    "    if(len(temp_input)>100):\n",
    "        #print(temp_input)\n",
    "        X_input=np.array(temp_input[1:])\n",
    "        print(\"{} day input {}\".format(i,X_input))\n",
    "        X_input=X_input.reshape(1, -1)\n",
    "        X_input = X_input.reshape((1, n_steps, 1))\n",
    "        #print (X_input)\n",
    "        yhat = model.predict(X_input, verbose=0)\n",
    "        print(\"{} day output {}\".format(i,yhat))\n",
    "        temp_input.extend(yhat[0].tolist())\n",
    "        temp_input=temp_input[1:]\n",
    "        #print(temp_input)\n",
    "        lst_output.extend(yhat.tolist())\n",
    "        i=i+1\n",
    "    else:\n",
    "        X_input = X_input.reshape((1, n_steps, 1))\n",
    "        yhat = model.predict(X_input, verbose=0)\n",
    "        print(yhat[0])\n",
    "        temp_input.extend(yhat[0].tolist())\n",
    "        print(len(temp_input))\n",
    "        lst_output.extend(yhat.tolist())\n",
    "        i=i+1\n",
    "        \n",
    "            \n",
    "print(lst_output)        "
   ]
  },
  {
   "cell_type": "code",
   "execution_count": 35,
   "id": "2721ba73",
   "metadata": {},
   "outputs": [],
   "source": [
    "day_new=np.arange(1,101)\n",
    "day_pred=np.arange(101,131)"
   ]
  },
  {
   "cell_type": "markdown",
   "id": "fe56464b",
   "metadata": {},
   "source": [
    "Explanation:\n",
    "\n",
    "    day_new: This creates an array ranging from 1 to 100, representing the last 100 days of data (assuming the data is sequentially indexed).\n",
    "    day_pred: This creates an array ranging from 101 to 130, representing the next 30 days for which you're making predictions."
   ]
  },
  {
   "cell_type": "code",
   "execution_count": 36,
   "id": "8f424b5f",
   "metadata": {},
   "outputs": [
    {
     "data": {
      "text/plain": [
       "2716"
      ]
     },
     "execution_count": 36,
     "metadata": {},
     "output_type": "execute_result"
    }
   ],
   "source": [
    "len(df1)"
   ]
  },
  {
   "cell_type": "code",
   "execution_count": 37,
   "id": "c979e0ce",
   "metadata": {},
   "outputs": [
    {
     "data": {
      "image/png": "[encoded data removed]",
      "text/plain": [
       "<Figure size 640x480 with 1 Axes>"
      ]
     },
     "metadata": {},
     "output_type": "display_data"
    }
   ],
   "source": [
    "# Forecast\n",
    "plt.plot(day_new,scaler.inverse_transform(df1[2616:]))\n",
    "plt.plot(day_pred,scaler.inverse_transform(lst_output));"
   ]
  },
  {
   "cell_type": "markdown",
   "id": "782b91e7",
   "metadata": {},
   "source": [
    "This shows a slight drop in price in the next 30 days."
   ]
  },
  {
   "cell_type": "code",
   "execution_count": 38,
   "id": "723f166b",
   "metadata": {},
   "outputs": [
    {
     "data": {
      "image/png": "[encoded data removed]",
      "text/plain": [
       "<Figure size 1200x600 with 1 Axes>"
      ]
     },
     "metadata": {},
     "output_type": "display_data"
    }
   ],
   "source": [
    "import matplotlib.pyplot as plt\n",
    "\n",
    "# Assuming df1 is defined and contains the scaled actual data\n",
    "# Ensure df1 has at least 100 more entries than 2616\n",
    "plt.figure(figsize=(12, 6))\n",
    "\n",
    "# Plot the actual data for the last 100 days\n",
    "plt.plot(day_new, scaler.inverse_transform(df1[2616:]), label='Actual Data', color='blue')\n",
    "\n",
    "# Plot the predicted data for the next 30 days\n",
    "plt.plot(day_pred, scaler.inverse_transform(np.array(lst_output).reshape(-1, 1)), label='Predicted Data', color='orange')\n",
    "\n",
    "# Adding titles and labels\n",
    "plt.title('Actual vs Predicted Data')\n",
    "plt.xlabel('Days')\n",
    "plt.ylabel('Values')\n",
    "plt.legend()\n",
    "plt.grid()\n",
    "plt.show()"
   ]
  },
  {
   "cell_type": "code",
   "execution_count": 39,
   "id": "b12b4e0e",
   "metadata": {},
   "outputs": [
    {
     "data": {
      "image/png": "[encoded data removed]",
      "text/plain": [
       "<Figure size 1200x600 with 1 Axes>"
      ]
     },
     "metadata": {},
     "output_type": "display_data"
    }
   ],
   "source": [
    "import matplotlib.pyplot as plt\n",
    "\n",
    "# Convert df1 to a list and extend it with the predictions\n",
    "df3 = df1.tolist()  # Make sure df1 is a 2D array or DataFrame\n",
    "df3.extend(lst_output)  # Append the predictions to the end of df3\n",
    "\n",
    "# Plotting the combined data\n",
    "plt.figure(figsize=(12, 6))\n",
    "plt.plot(df3[1600:], label='Combined Data', color='green')  # Adjust color as desired\n",
    "\n",
    "# Adding titles and labels\n",
    "plt.title('Combined Actual and Predicted Data')\n",
    "plt.xlabel('Days')\n",
    "plt.ylabel('Values')\n",
    "plt.legend()\n",
    "plt.grid()\n",
    "plt.show()"
   ]
  },
  {
   "cell_type": "code",
   "execution_count": 40,
   "id": "7fa08a89",
   "metadata": {},
   "outputs": [
    {
     "data": {
      "image/png": "[encoded data removed]",
      "text/plain": [
       "<Figure size 640x480 with 1 Axes>"
      ]
     },
     "metadata": {},
     "output_type": "display_data"
    }
   ],
   "source": [
    "df3=df1.tolist()\n",
    "df3.extend(lst_output)\n",
    "plt.plot(df3[1600:]);"
   ]
  },
  {
   "cell_type": "markdown",
   "id": "b7c2355b",
   "metadata": {},
   "source": [
    "The summary of the Stacke LSTM model shows a good predictive model which predicts a slight drop in MSFT stock prices over the next month. (October 18, 2024 – November 18, 2024)"
   ]
  },
  {
   "cell_type": "code",
   "execution_count": null,
   "id": "cd805025",
   "metadata": {},
   "outputs": [],
   "source": []
  },
  {
   "cell_type": "markdown",
   "id": "a1d395e2",
   "metadata": {},
   "source": [
    "Using a stacked LSTM (Long Short-Term Memory) model for predicting stock prices or other time series data has several benefits over simple LSTM or other traditional models. Here's why stacked LSTMs can be advantageous for stock market prediction and similar tasks:\n",
    "1. Capturing Complex Temporal Dependencies\n",
    "•\tDeeper representation: A stacked LSTM has multiple LSTM layers stacked on top of each other. This depth allows the model to capture more complex temporal dependencies, such as long-term trends and short-term fluctuations in stock prices.\n",
    "•\tMulti-layered memory: Each LSTM layer learns different aspects of the sequence data. The lower layers might capture short-term patterns (daily or weekly trends), while upper layers could capture long-term trends (monthly or yearly).\n",
    "2. Handling Sequential Data\n",
    "•\tSequential memory: LSTMs are specifically designed to handle sequential data by maintaining a memory of previous inputs, making them well-suited for stock price data where time and order matter (i.e., today's stock prices depend on yesterday's).\n",
    "•\tAvoiding vanishing gradients: LSTM’s architecture is designed to mitigate the vanishing gradient problem, which allows the model to capture longer dependencies compared to standard RNNs.\n",
    "3. Better Performance on Time Series Prediction\n",
    "•\tImproved generalization: The additional layers in stacked LSTMs allow the model to better generalize and capture a wider range of temporal patterns. This can improve its ability to predict future stock prices, especially when the time series has multiple timescales (e.g., day-to-day fluctuations and long-term market trends).\n",
    "•\tIncreased flexibility: Multiple layers allow the model to be more flexible in learning complex features from the data, leading to improved predictive performance.\n",
    "4. Feature Extraction at Multiple Levels\n",
    "•\tHierarchical feature learning: With stacked LSTM layers, the model can learn different features at different layers. The lower layers may focus on fine-grained features like small daily changes, while the upper layers focus on broader, more general trends.\n",
    "•\tBetter pattern recognition: The model can extract more meaningful representations of data, which can help in making better predictions even in volatile or noisy stock markets.\n",
    "5. Handling Non-linearities in Stock Prices\n",
    "•\tNon-linear relationships: Stock price movements are often influenced by non-linear factors, such as market sentiment, news events, and macroeconomic indicators. LSTMs, and particularly stacked LSTMs, can better capture these non-linear relationships compared to simpler models like linear regression.\n",
    "•\tTemporal dependencies: Stacked LSTMs can learn both short-term fluctuations and long-term dependencies in stock prices, providing more accurate predictions in a highly dynamic and non-linear environment.\n",
    "6. Multivariate Time Series Prediction\n",
    "•\tMultiple input variables: Stacked LSTMs are effective in handling multivariate time series (e.g., stock prices, trading volume, economic indicators, etc.), making them suitable for predicting stock market trends based on multiple factors.\n",
    "•\tMore robust predictions: Incorporating several features or data points such as historical stock prices, technical indicators, and economic factors helps the model to make more robust and informed predictions.\n",
    "7. Better Overfitting Control\n",
    "•\tDropout regularization: Adding dropout layers between stacked LSTM layers helps mitigate overfitting, which is important for stock market prediction, as the model needs to generalize well to unseen data.\n",
    "•\tComplex patterns without overfitting: Stacking multiple LSTM layers can capture very complex patterns, but with proper regularization, the risk of overfitting to the training data is reduced.\n",
    "8. Improved Long-Term Forecasting\n",
    "•\tLonger prediction horizons: Stacked LSTMs may offer better performance for long-term forecasting since they are designed to capture long-term dependencies. This is beneficial in stock markets, where long-term trends are important for making strategic investment decisions.\n",
    "Challenges to Consider:\n",
    "•\tComputational complexity: Stacked LSTMs have a larger number of parameters, which increases the computational cost and training time.\n",
    "•\tRisk of overfitting: With more parameters, there's an increased risk of overfitting to the training data, especially if the dataset is small or noisy. Proper regularization techniques like dropout or L2 regularization are essential.\n"
   ]
  },
  {
   "cell_type": "markdown",
   "id": "e7864409",
   "metadata": {},
   "source": [
    "Conclusion:\n",
    "\n",
    "Stacked LSTMs offer the ability to model complex temporal relationships in stock market data, making them well-suited for predicting stock prices, market trends, and other time series tasks. They provide more robust and flexible models, especially when there are long-term dependencies and multiple influencing factors. However, careful tuning and regularization are needed to balance complexity and performance."
   ]
  },
  {
   "cell_type": "code",
   "execution_count": null,
   "id": "65a433f0",
   "metadata": {},
   "outputs": [],
   "source": []
  }
 ],
 "metadata": {
  "kernelspec": {
   "display_name": "Python 3 (ipykernel)",
   "language": "python",
   "name": "python3"
  },
  "language_info": {
   "codemirror_mode": {
    "name": "ipython",
    "version": 3
   },
   "file_extension": ".py",
   "mimetype": "text/x-python",
   "name": "python",
   "nbconvert_exporter": "python",
   "pygments_lexer": "ipython3",
   "version": "3.11.5"
  }
 },
 "nbformat": 4,
 "nbformat_minor": 5
}
